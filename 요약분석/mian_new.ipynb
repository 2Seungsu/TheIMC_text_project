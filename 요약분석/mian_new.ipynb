{
 "cells": [
  {
   "cell_type": "code",
   "execution_count": 1,
   "id": "3f10c2c3-fd3d-4936-a365-7828d1775c12",
   "metadata": {
    "scrolled": true
   },
   "outputs": [
    {
     "name": "stderr",
     "output_type": "stream",
     "text": [
      "You passed along `num_labels=3` with an incompatible id to label map: {'0': 'NEGATIVE', '1': 'POSITIVE'}. The number of labels wil be overwritten to 2.\n"
     ]
    },
    {
     "data": {
      "text/html": [
       "\n",
       "    <div>\n",
       "      \n",
       "      <progress value='50' max='50' style='width:300px; height:20px; vertical-align: middle;'></progress>\n",
       "      [50/50 02:59, Epoch 50/50]\n",
       "    </div>\n",
       "    <table border=\"1\" class=\"dataframe\">\n",
       "  <thead>\n",
       " <tr style=\"text-align: left;\">\n",
       "      <th>Step</th>\n",
       "      <th>Training Loss</th>\n",
       "      <th>Validation Loss</th>\n",
       "    </tr>\n",
       "  </thead>\n",
       "  <tbody>\n",
       "    <tr>\n",
       "      <td>5</td>\n",
       "      <td>6.712700</td>\n",
       "      <td>6.078211</td>\n",
       "    </tr>\n",
       "    <tr>\n",
       "      <td>10</td>\n",
       "      <td>6.379500</td>\n",
       "      <td>5.840589</td>\n",
       "    </tr>\n",
       "    <tr>\n",
       "      <td>15</td>\n",
       "      <td>6.244500</td>\n",
       "      <td>5.498766</td>\n",
       "    </tr>\n",
       "    <tr>\n",
       "      <td>20</td>\n",
       "      <td>5.754800</td>\n",
       "      <td>5.106279</td>\n",
       "    </tr>\n",
       "    <tr>\n",
       "      <td>25</td>\n",
       "      <td>5.286200</td>\n",
       "      <td>4.669096</td>\n",
       "    </tr>\n",
       "    <tr>\n",
       "      <td>30</td>\n",
       "      <td>4.873500</td>\n",
       "      <td>4.240152</td>\n",
       "    </tr>\n",
       "    <tr>\n",
       "      <td>35</td>\n",
       "      <td>4.452800</td>\n",
       "      <td>3.808633</td>\n",
       "    </tr>\n",
       "    <tr>\n",
       "      <td>40</td>\n",
       "      <td>3.953200</td>\n",
       "      <td>3.358873</td>\n",
       "    </tr>\n",
       "    <tr>\n",
       "      <td>45</td>\n",
       "      <td>3.539400</td>\n",
       "      <td>2.943405</td>\n",
       "    </tr>\n",
       "    <tr>\n",
       "      <td>50</td>\n",
       "      <td>3.118000</td>\n",
       "      <td>2.467460</td>\n",
       "    </tr>\n",
       "  </tbody>\n",
       "</table><p>"
      ],
      "text/plain": [
       "<IPython.core.display.HTML object>"
      ]
     },
     "metadata": {},
     "output_type": "display_data"
    },
    {
     "name": "stderr",
     "output_type": "stream",
     "text": [
      "You passed along `num_labels=3` with an incompatible id to label map: {'0': 'NEGATIVE', '1': 'POSITIVE'}. The number of labels wil be overwritten to 2.\n"
     ]
    },
    {
     "name": "stdin",
     "output_type": "stream",
     "text": [
      "Enter the text you want to summarize:  (대구=연합뉴스) 박세진 기자 = 대구시는 김선조 신임 행정부시장이 오는 4일 취임한다고 3일 밝혔다.  김 부시장은 취임식을 생략하고 홍준표 대구시장 주재 간부회의에 참석하는 것으로 일정을 시작한다.  그는 부산 출신으로 서울대 철학과를 졸업했고 37회 행정고시에 합격해 1994년 4월 공직에 입문했다.  환경부, 울산시 안전행정국장, 울산 중·동구 부구청장, 행정자치부 지역발전과장, 울산시·부산시 기획조정실장, 행정안전부 균형발전지원관 등을 거쳤다.  대구에서는 1995년 환경부 대구지방환경청 소속으로 1년간 근무한 바 있다.  김 부시장은 \"대구가 대한민국 3대 도시의 영광을 되찾도록 행정 업무 경험과 전문성을 살리겠다\"고 말했다.\n"
     ]
    },
    {
     "name": "stdout",
     "output_type": "stream",
     "text": [
      "Generated Summary: 3일 대구시는 4일 취임하는 김선조 신임 행정부시장이 홍준표 대구시장 주재 간부회의에 참석하는 것으로 일정을 시작한다고 밝혔다.\n"
     ]
    }
   ],
   "source": [
    "from train_new import train_model\n",
    "from test import MySummarizer\n",
    "\n",
    "def main():\n",
    "    # Training the model\n",
    "    train_model()\n",
    "\n",
    "    # Loading the trained weights\n",
    "    weights_path = 'weights_new.ckpt'\n",
    "    model_name = \"digit82/kobart-summarization\"\n",
    "\n",
    "    # Create the summarizer\n",
    "    summarizer = MySummarizer(model_name, weights_path)\n",
    "\n",
    "    # Get text input from user\n",
    "    example_text = input(\"Enter the text you want to summarize: \")\n",
    "\n",
    "    # Generate and print summary\n",
    "    summary = summarizer.generate_summary(example_text)\n",
    "    print(\"Generated Summary:\", summary)\n",
    "\n",
    "if __name__ == '__main__':\n",
    "    main()"
   ]
  },
  {
   "cell_type": "code",
   "execution_count": 2,
   "id": "237065fb-0581-4a31-a9a4-be6e139e3808",
   "metadata": {
    "scrolled": true
   },
   "outputs": [
    {
     "name": "stdout",
     "output_type": "stream",
     "text": [
      "\n",
      "Training Scalar Tag: train/loss\n",
      "Step: 5, Value: 6.712699890136719\n",
      "Step: 10, Value: 6.379499912261963\n",
      "Step: 15, Value: 6.244500160217285\n",
      "Step: 20, Value: 5.754799842834473\n",
      "Step: 25, Value: 5.286200046539307\n",
      "Step: 30, Value: 4.873499870300293\n",
      "Step: 35, Value: 4.4527997970581055\n",
      "Step: 40, Value: 3.953200101852417\n",
      "Step: 45, Value: 3.539400100708008\n",
      "Step: 50, Value: 3.118000030517578\n",
      "Step: 5, Value: 4.999999987376214e-07\n",
      "Step: 10, Value: 9.999999974752427e-07\n",
      "Step: 15, Value: 1.500000053056283e-06\n",
      "Step: 20, Value: 1.9999999949504854e-06\n",
      "Step: 25, Value: 2.499999936844688e-06\n",
      "Step: 30, Value: 3.000000106112566e-06\n",
      "Step: 35, Value: 3.5000000480067683e-06\n",
      "Step: 40, Value: 3.999999989900971e-06\n",
      "Step: 45, Value: 4.500000159168849e-06\n",
      "Step: 50, Value: 4.999999873689376e-06\n",
      "Step: 5, Value: 5.0\n",
      "Step: 5, Value: 5.0\n",
      "Step: 10, Value: 10.0\n",
      "Step: 10, Value: 10.0\n",
      "Step: 15, Value: 15.0\n",
      "Step: 15, Value: 15.0\n",
      "Step: 20, Value: 20.0\n",
      "Step: 20, Value: 20.0\n",
      "Step: 25, Value: 25.0\n",
      "Step: 25, Value: 25.0\n",
      "Step: 30, Value: 30.0\n",
      "Step: 30, Value: 30.0\n",
      "Step: 35, Value: 35.0\n",
      "Step: 35, Value: 35.0\n",
      "Step: 40, Value: 40.0\n",
      "Step: 40, Value: 40.0\n",
      "Step: 45, Value: 45.0\n",
      "Step: 45, Value: 45.0\n",
      "Step: 50, Value: 50.0\n",
      "Step: 50, Value: 50.0\n",
      "Step: 50, Value: 50.0\n",
      "\n",
      "Validation Scalar Tag: eval/loss\n",
      "Step: 5, Value: 6.078210830688477\n",
      "Step: 10, Value: 5.8405890464782715\n",
      "Step: 15, Value: 5.49876594543457\n",
      "Step: 20, Value: 5.106279373168945\n",
      "Step: 25, Value: 4.669095516204834\n",
      "Step: 30, Value: 4.240151882171631\n",
      "Step: 35, Value: 3.8086326122283936\n",
      "Step: 40, Value: 3.358872652053833\n",
      "Step: 45, Value: 2.9434049129486084\n",
      "Step: 50, Value: 2.4674599170684814\n",
      "Step: 5, Value: 0.6592000126838684\n",
      "Step: 10, Value: 0.7807000279426575\n",
      "Step: 15, Value: 0.8715000152587891\n",
      "Step: 20, Value: 0.9351000189781189\n",
      "Step: 25, Value: 1.1089999675750732\n",
      "Step: 30, Value: 1.1325000524520874\n",
      "Step: 35, Value: 1.1193000078201294\n",
      "Step: 40, Value: 0.9610000252723694\n",
      "Step: 45, Value: 0.732200026512146\n",
      "Step: 50, Value: 0.8783000111579895\n",
      "Step: 5, Value: 4.551000118255615\n",
      "Step: 10, Value: 3.8429999351501465\n",
      "Step: 15, Value: 3.441999912261963\n",
      "Step: 20, Value: 3.2079999446868896\n",
      "Step: 25, Value: 2.7049999237060547\n",
      "Step: 30, Value: 2.6489999294281006\n",
      "Step: 35, Value: 2.680000066757202\n",
      "Step: 40, Value: 3.121999979019165\n",
      "Step: 45, Value: 4.0970001220703125\n",
      "Step: 50, Value: 3.4159998893737793\n",
      "Step: 5, Value: 1.5169999599456787\n",
      "Step: 10, Value: 1.281000018119812\n",
      "Step: 15, Value: 1.1469999551773071\n",
      "Step: 20, Value: 1.069000005722046\n",
      "Step: 25, Value: 0.9020000100135803\n",
      "Step: 30, Value: 0.8830000162124634\n",
      "Step: 35, Value: 0.8930000066757202\n",
      "Step: 40, Value: 1.0410000085830688\n",
      "Step: 45, Value: 1.3660000562667847\n",
      "Step: 50, Value: 1.1390000581741333\n",
      "Step: 50, Value: 181.72970581054688\n",
      "Step: 50, Value: 0.824999988079071\n",
      "Step: 50, Value: 0.2750000059604645\n",
      "Step: 50, Value: 11432559116288.0\n",
      "Step: 50, Value: 5.031452655792236\n"
     ]
    }
   ],
   "source": [
    "from tensorboard.backend.event_processing import event_accumulator\n",
    "\n",
    "log_path = './new_logs'  # Change this to your log directory\n",
    "\n",
    "# Load TensorBoard events\n",
    "event_acc = event_accumulator.EventAccumulator(log_path)\n",
    "event_acc.Reload()\n",
    "\n",
    "# Extract scalars\n",
    "scalar_tags = event_acc.Tags()['scalars']\n",
    "\n",
    "for tag in scalar_tags:\n",
    "    if 'train/loss' in tag:\n",
    "        print(f\"\\nTraining Scalar Tag: {tag}\")\n",
    "    elif 'eval/loss' in tag:\n",
    "        print(f\"\\nValidation Scalar Tag: {tag}\")\n",
    " \n",
    "    events = event_acc.Scalars(tag)\n",
    "    for event in events:\n",
    "        print(f\"Step: {event.step}, Value: {event.value}\")"
   ]
  },
  {
   "cell_type": "code",
   "execution_count": 3,
   "id": "02e60c83-5bd5-4411-9217-c001305d6e60",
   "metadata": {},
   "outputs": [
    {
     "data": {
      "image/png": "[encoded data removed]",
      "text/plain": [
       "<Figure size 640x480 with 1 Axes>"
      ]
     },
     "metadata": {},
     "output_type": "display_data"
    }
   ],
   "source": [
    "import matplotlib.pyplot as plt\n",
    "from tensorboard.backend.event_processing import event_accumulator\n",
    "\n",
    "log_path = './new_logs'  # Change this to your log directory\n",
    "\n",
    "# Load TensorBoard events\n",
    "event_acc = event_accumulator.EventAccumulator(log_path)\n",
    "event_acc.Reload()\n",
    "\n",
    "# Extract scalars\n",
    "scalar_tags = event_acc.Tags()['scalars']\n",
    "\n",
    "# Separate training and validation loss\n",
    "train_loss_data = {}\n",
    "val_loss_data = {}\n",
    "\n",
    "for tag in scalar_tags:\n",
    "    events = event_acc.Scalars(tag)\n",
    "\n",
    "    for event in events:\n",
    "        if 'train/loss' in tag:\n",
    "            train_loss_data[event.step] = min(train_loss_data.get(event.step, float('inf')), event.value)\n",
    "        elif 'eval/loss' in tag:\n",
    "            val_loss_data[event.step] = min(val_loss_data.get(event.step, float('inf')), event.value)\n",
    "\n",
    "# Convert data to lists for plotting\n",
    "train_loss_steps, train_loss_values = zip(*sorted(train_loss_data.items()))\n",
    "val_loss_steps, val_loss_values = zip(*sorted(val_loss_data.items()))\n",
    "\n",
    "# Plotting\n",
    "plt.plot(train_loss_steps, train_loss_values, label='Validation Loss')\n",
    "plt.plot(val_loss_steps, val_loss_values, label='Training Loss')\n",
    "plt.xlabel('Steps')\n",
    "plt.ylabel('Loss')\n",
    "plt.legend()\n",
    "plt.show()\n"
   ]
  },
  {
   "cell_type": "code",
   "execution_count": 2,
   "id": "92b65198-1737-475a-82ab-019aaeb7cc8c",
   "metadata": {
    "scrolled": true
   },
   "outputs": [
    {
     "name": "stdout",
     "output_type": "stream",
     "text": [
      "\n",
      "Scalar Tag: train/loss\n",
      "Step: 10, Value: 6.578499794006348\n",
      "Step: 20, Value: 5.920199871063232\n",
      "Step: 30, Value: 5.091599941253662\n",
      "Step: 40, Value: 4.195099830627441\n",
      "Step: 50, Value: 3.2555999755859375\n",
      "\n",
      "Scalar Tag: train/learning_rate\n",
      "Step: 10, Value: 9.999999974752427e-07\n",
      "Step: 20, Value: 1.9999999949504854e-06\n",
      "Step: 30, Value: 3.000000106112566e-06\n",
      "Step: 40, Value: 3.999999989900971e-06\n",
      "Step: 50, Value: 4.999999873689376e-06\n",
      "\n",
      "Scalar Tag: train/epoch\n",
      "Step: 10, Value: 10.0\n",
      "Step: 20, Value: 20.0\n",
      "Step: 30, Value: 30.0\n",
      "Step: 40, Value: 40.0\n",
      "Step: 50, Value: 50.0\n",
      "Step: 50, Value: 50.0\n",
      "\n",
      "Scalar Tag: train/train_runtime\n",
      "Step: 50, Value: 241.1033935546875\n",
      "\n",
      "Scalar Tag: train/train_samples_per_second\n",
      "Step: 50, Value: 0.621999979019165\n",
      "\n",
      "Scalar Tag: train/train_steps_per_second\n",
      "Step: 50, Value: 0.2070000022649765\n",
      "\n",
      "Scalar Tag: train/total_flos\n",
      "Step: 50, Value: 11432559116288.0\n",
      "\n",
      "Scalar Tag: train/train_loss\n",
      "Step: 50, Value: 5.008189678192139\n"
     ]
    }
   ],
   "source": [
    "from tensorboard.backend.event_processing import event_accumulator\n",
    "\n",
    "log_path = './new_logs'  # Change this to your log directory\n",
    "\n",
    "# Load TensorBoard events\n",
    "event_acc = event_accumulator.EventAccumulator(log_path)\n",
    "event_acc.Reload()\n",
    "\n",
    "# Extract scalars\n",
    "scalar_tags = event_acc.Tags()['scalars']\n",
    "\n",
    "for tag in scalar_tags:\n",
    "    events = event_acc.Scalars(tag)\n",
    "    print(f\"\\nScalar Tag: {tag}\")\n",
    "    for event in events:\n",
    "        print(f\"Step: {event.step}, Value: {event.value}\")"
   ]
  },
  {
   "cell_type": "code",
   "execution_count": 9,
   "id": "f102c21b-bdfc-41d4-be10-5689d9426395",
   "metadata": {},
   "outputs": [],
   "source": [
    "text = '''(대구=연합뉴스) 박세진 기자 = 대구시는 김선조 신임 행정부시장이 오는 4일 취임한다고 3일 밝혔다.  김 부시장은 취임식을 생략하고 홍준표 대구시장 주재 간부회의에 참석하는 것으로 일정을 시작한다.  \n",
    "그는 부산 출신으로 서울대 철학과를 졸업했고 37회 행정고시에 합격해 1994년 4월 공직에 입문했다.  \n",
    "환경부, 울산시 안전행정국장, 울산 중·동구 부구청장, 행정자치부 지역발전과장, 울산시·부산시 기획조정실장, 행정안전부 균형발전지원관 등을 거쳤다.  대구에서는 1995년 환경부 대구지방환경청 소속으로 1년간 근무한 바 있다.  \n",
    "김 부시장은 \"대구가 대한민국 3대 도시의 영광을 되찾도록 행정 업무 경험과 전문성을 살리겠다\"고 말했다.\n",
    "Generated Summary: 3일 대구시는 4일 취임하는 김선조 신임 행정부시장이 홍준표 대구시장 주재 간부회의에 참석하는 것으로 일정을 시작한다고 밝혔다.'''"
   ]
  },
  {
   "cell_type": "code",
   "execution_count": 3,
   "id": "1d469b78-bbb6-47b1-8e68-63c232e8b922",
   "metadata": {},
   "outputs": [
    {
     "name": "stderr",
     "output_type": "stream",
     "text": [
      "You passed along `num_labels=3` with an incompatible id to label map: {'0': 'NEGATIVE', '1': 'POSITIVE'}. The number of labels wil be overwritten to 2.\n"
     ]
    },
    {
     "name": "stdout",
     "output_type": "stream",
     "text": [
      "Generated Summary: 3일 대구시는 4일 취임하는 김선조 신임 행정부시장이 취임식을 생략하고 홍준표 대구시장 주재 간부회의에 참석하는 것으로 일정을 시작한다고 밝혔다.\n"
     ]
    }
   ],
   "source": [
    "from test import MySummarizer\n",
    "\n",
    "def main(text):\n",
    "\n",
    "    # Loading the trained weights\n",
    "    weights_path = 'weights_new.ckpt'\n",
    "    model_name = \"digit82/kobart-summarization\"\n",
    "\n",
    "    # Create the summarizer\n",
    "    summarizer = MySummarizer(model_name, weights_path)\n",
    "\n",
    "    # Generate and print summary\n",
    "    summary = summarizer.generate_summary(text)\n",
    "    print(\"Generated Summary:\", summary)\n",
    "\n",
    "if __name__ == '__main__':\n",
    "    main(text)"
   ]
  },
  {
   "cell_type": "code",
   "execution_count": 8,
   "id": "ca2418aa-818d-4b98-aade-afdb3e588523",
   "metadata": {},
   "outputs": [
    {
     "data": {
      "text/plain": [
       "'(대구=연합뉴스) 박세진 기자 = 대구시는 김선조 신임 행정부시장이 오는 4일 취임한다고 3일 밝혔다.  김 부시장은 취임식을 생략하고 홍준표 대구시장 주재 간부회의에 참석하는 것으로 일정을 시작한다.  \\n그는 부산 출신으로 서울대 철학과를 졸업했고 37회 행정고시에 합격해 1994년 4월 공직에 입문했다.  \\n환경부, 울산시 안전행정국장, 울산 중·동구 부구청장, 행정자치부 지역발전과장, 울산시·부산시 기획조정실장, 행정안전부 균형발전지원관 등을 거쳤다.  대구에서는 1995년 환경부 대구지방환경청 소속으로 1년간 근무한 바 있다.  \\n김 부시장은 \"대구가 대한민국 3대 도시의 영광을 되찾도록 행정 업무 경험과 전문성을 살리겠다\"고 말했다.\\n        Generated Summary: 3일 대구시는 4일 취임하는 김선조 신임 행정부시장이 홍준표 대구시장 주재 간부회의에 참석하는 것으로 일정을 시작한다고 밝혔다.'"
      ]
     },
     "execution_count": 8,
     "metadata": {},
     "output_type": "execute_result"
    }
   ],
   "source": [
    "text"
   ]
  },
  {
   "cell_type": "code",
   "execution_count": null,
   "id": "c6d702fd-78e4-4ea5-a65e-fdfd79ed3c49",
   "metadata": {},
   "outputs": [],
   "source": []
  }
 ],
 "metadata": {
  "kernelspec": {
   "display_name": "Python 3 (ipykernel)",
   "language": "python",
   "name": "python3"
  },
  "language_info": {
   "codemirror_mode": {
    "name": "ipython",
    "version": 3
   },
   "file_extension": ".py",
   "mimetype": "text/x-python",
   "name": "python",
   "nbconvert_exporter": "python",
   "pygments_lexer": "ipython3",
   "version": "3.8.18"
  }
 },
 "nbformat": 4,
 "nbformat_minor": 5
}
