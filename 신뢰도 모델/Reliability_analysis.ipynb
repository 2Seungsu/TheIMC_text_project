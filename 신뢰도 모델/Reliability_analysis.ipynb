{
 "cells": [
  {
   "cell_type": "code",
   "execution_count": 1,
   "id": "1cca9028-6408-4c60-b1d5-63e1045e2887",
   "metadata": {},
   "outputs": [],
   "source": [
    "import pandas as pd\n",
    "import numpy as np\n",
    "import re"
   ]
  },
  {
   "cell_type": "markdown",
   "id": "cd2f457e-d615-4f34-a42f-6b852b2684e0",
   "metadata": {},
   "source": [
    "### 데이터 불러오기"
   ]
  },
  {
   "cell_type": "code",
   "execution_count": 2,
   "id": "e9652229-305a-455a-bae7-749fbd5055b3",
   "metadata": {},
   "outputs": [],
   "source": [
    "scoreDF1 = pd.read_csv('가치점수.csv')\n",
    "scoreDF2 = pd.read_csv('가중치가치점수.csv')"
   ]
  },
  {
   "cell_type": "code",
   "execution_count": 3,
   "id": "41d98d9e-e447-4c35-bd84-4dd4cc0cdaf6",
   "metadata": {
    "scrolled": true
   },
   "outputs": [],
   "source": [
    "cleanDF = pd.read_csv('../data/finalNews.csv', index_col=0)\n",
    "def remove_special_characters_except_korean(text, exceptions):\n",
    "\n",
    "    box = ['재배포 금지','무단 전재', '무단전재' \"기자\", \"뉴스\"]\n",
    "    \n",
    "    # box 안의 내용 삭제\n",
    "    for i in box:\n",
    "        text = text.replace(i, '')\n",
    "\n",
    "    # exceptions에 포함된 특수문자와 한글을 제외하고 모든 특수문자를 제거하는 정규식 패턴\n",
    "    pattern = re.compile(f'[^ㄱ-ㅎ가-힣0-9{re.escape(exceptions)}]')\n",
    "\n",
    "    # 정규식을 사용하여 특수문자 제거\n",
    "    result = re.sub(pattern, ' ', text)\n",
    "\n",
    "    # 언론사명 삭제\n",
    "    for i in cleanDF['언론사'].unique():\n",
    "        result = result.replace(i, '')\n",
    "\n",
    "    return result"
   ]
  },
  {
   "cell_type": "code",
   "execution_count": 4,
   "id": "d436c5f0-24a0-4b38-b26f-ac37dc891eab",
   "metadata": {},
   "outputs": [],
   "source": [
    "# cleanDF['제목'] = cleanDF['제목'].apply(lambda x: remove_special_characters_except_korean(x, '~%.'))\n",
    "# cleanDF[['제목','본문']].to_csv('신뢰도분석파일1.csv', index=False)"
   ]
  },
  {
   "cell_type": "code",
   "execution_count": 5,
   "id": "f501cfe4-1183-45cd-9ed2-c13b334ee69d",
   "metadata": {},
   "outputs": [],
   "source": [
    "cleanDF = cleanDF.dropna(subset=['본문'])[['제목','본문']]\n",
    "scoreDF1 = scoreDF1[scoreDF1.index.isin(cleanDF.index)]\n",
    "scoreDF2 = scoreDF2[scoreDF2.index.isin(cleanDF.index)]"
   ]
  },
  {
   "cell_type": "code",
   "execution_count": 6,
   "id": "425826e8-97b8-4448-9ae7-d06aca979c12",
   "metadata": {},
   "outputs": [
    {
     "data": {
      "text/plain": [
       "(39946, 39946, 39946)"
      ]
     },
     "execution_count": 6,
     "metadata": {},
     "output_type": "execute_result"
    }
   ],
   "source": [
    "# 갯수 확인\n",
    "len(cleanDF),len(scoreDF1), len(scoreDF2)"
   ]
  },
  {
   "cell_type": "code",
   "execution_count": 7,
   "id": "c8ca38a3-26ed-4371-a3b2-d847c61ba260",
   "metadata": {},
   "outputs": [],
   "source": [
    "# cleanDF.to_csv('cleanDF.csv')\n",
    "# scoreDF1.to_csv('가중치점수1.csv')\n",
    "# scoreDF2.to_csv('가중치가치점수1.csv')"
   ]
  },
  {
   "cell_type": "markdown",
   "id": "f76c4a61-9118-4376-8823-e54cbd8e8c21",
   "metadata": {},
   "source": [
    "### 신뢰도 타겟 좋음, 중간, 나쁨 생성"
   ]
  },
  {
   "cell_type": "code",
   "execution_count": 8,
   "id": "06147350-5d89-404c-a6ff-7be483817404",
   "metadata": {},
   "outputs": [],
   "source": [
    "import matplotlib.pyplot as plt"
   ]
  },
  {
   "cell_type": "code",
   "execution_count": 9,
   "id": "3ac5c602-d94f-4748-83f8-6285933a4fe7",
   "metadata": {},
   "outputs": [
    {
     "data": {
      "text/html": [
       "<div>\n",
       "<style scoped>\n",
       "    .dataframe tbody tr th:only-of-type {\n",
       "        vertical-align: middle;\n",
       "    }\n",
       "\n",
       "    .dataframe tbody tr th {\n",
       "        vertical-align: top;\n",
       "    }\n",
       "\n",
       "    .dataframe thead th {\n",
       "        text-align: right;\n",
       "    }\n",
       "</style>\n",
       "<table border=\"1\" class=\"dataframe\">\n",
       "  <thead>\n",
       "    <tr style=\"text-align: right;\">\n",
       "      <th></th>\n",
       "      <th>0</th>\n",
       "    </tr>\n",
       "  </thead>\n",
       "  <tbody>\n",
       "    <tr>\n",
       "      <th>count</th>\n",
       "      <td>39946.000000</td>\n",
       "    </tr>\n",
       "    <tr>\n",
       "      <th>mean</th>\n",
       "      <td>14.065121</td>\n",
       "    </tr>\n",
       "    <tr>\n",
       "      <th>std</th>\n",
       "      <td>14.599650</td>\n",
       "    </tr>\n",
       "    <tr>\n",
       "      <th>min</th>\n",
       "      <td>-18.000000</td>\n",
       "    </tr>\n",
       "    <tr>\n",
       "      <th>25%</th>\n",
       "      <td>8.000000</td>\n",
       "    </tr>\n",
       "    <tr>\n",
       "      <th>50%</th>\n",
       "      <td>10.000000</td>\n",
       "    </tr>\n",
       "    <tr>\n",
       "      <th>75%</th>\n",
       "      <td>14.455000</td>\n",
       "    </tr>\n",
       "    <tr>\n",
       "      <th>max</th>\n",
       "      <td>147.500000</td>\n",
       "    </tr>\n",
       "  </tbody>\n",
       "</table>\n",
       "</div>"
      ],
      "text/plain": [
       "                  0\n",
       "count  39946.000000\n",
       "mean      14.065121\n",
       "std       14.599650\n",
       "min      -18.000000\n",
       "25%        8.000000\n",
       "50%       10.000000\n",
       "75%       14.455000\n",
       "max      147.500000"
      ]
     },
     "execution_count": 9,
     "metadata": {},
     "output_type": "execute_result"
    }
   ],
   "source": [
    "scoreDF1.describe()"
   ]
  },
  {
   "cell_type": "code",
   "execution_count": 10,
   "id": "1c392768-073c-4fd0-b270-82b85af1f75e",
   "metadata": {},
   "outputs": [
    {
     "data": {
      "image/png": "[encoded data removed]",
      "text/plain": [
       "<Figure size 640x480 with 1 Axes>"
      ]
     },
     "metadata": {},
     "output_type": "display_data"
    }
   ],
   "source": [
    "plt.boxplot(scoreDF1)\n",
    "plt.show()"
   ]
  },
  {
   "cell_type": "markdown",
   "id": "9b322ff2-4c39-44a2-bd4a-32429a609b7c",
   "metadata": {},
   "source": [
    "- 3사분위수보다 많으면 신뢰도 좋음 : 2\n",
    "- 1사위분수 - 1.5IQR 이상 3사위분수 미만이면 신뢰도 중간 : 1\n",
    "- 1사위분수 - 1.5IQR미만 신뢰도 나쁨 : 0"
   ]
  },
  {
   "cell_type": "code",
   "execution_count": 11,
   "id": "6c4e3988-bd71-4fad-9398-a636061b1a65",
   "metadata": {},
   "outputs": [],
   "source": [
    "q3 = np.percentile(scoreDF1,75)\n",
    "q1 = np.percentile(scoreDF1,25)"
   ]
  },
  {
   "cell_type": "code",
   "execution_count": 12,
   "id": "024a66b5-559f-4c27-b0ea-bcf922089381",
   "metadata": {},
   "outputs": [],
   "source": [
    "scoreDF1['0']=scoreDF1['0'].apply(lambda x: 2 if x >= q3 else 1 if x >= q1 else 0)"
   ]
  },
  {
   "cell_type": "code",
   "execution_count": 13,
   "id": "7b2cf58a-95e2-4937-8bd1-b46a79b84aed",
   "metadata": {},
   "outputs": [
    {
     "data": {
      "text/html": [
       "<div>\n",
       "<style scoped>\n",
       "    .dataframe tbody tr th:only-of-type {\n",
       "        vertical-align: middle;\n",
       "    }\n",
       "\n",
       "    .dataframe tbody tr th {\n",
       "        vertical-align: top;\n",
       "    }\n",
       "\n",
       "    .dataframe thead th {\n",
       "        text-align: right;\n",
       "    }\n",
       "</style>\n",
       "<table border=\"1\" class=\"dataframe\">\n",
       "  <thead>\n",
       "    <tr style=\"text-align: right;\">\n",
       "      <th></th>\n",
       "      <th>0</th>\n",
       "    </tr>\n",
       "  </thead>\n",
       "  <tbody>\n",
       "    <tr>\n",
       "      <th>count</th>\n",
       "      <td>39946.000000</td>\n",
       "    </tr>\n",
       "    <tr>\n",
       "      <th>mean</th>\n",
       "      <td>44.843125</td>\n",
       "    </tr>\n",
       "    <tr>\n",
       "      <th>std</th>\n",
       "      <td>43.432122</td>\n",
       "    </tr>\n",
       "    <tr>\n",
       "      <th>min</th>\n",
       "      <td>-45.903000</td>\n",
       "    </tr>\n",
       "    <tr>\n",
       "      <th>25%</th>\n",
       "      <td>25.964800</td>\n",
       "    </tr>\n",
       "    <tr>\n",
       "      <th>50%</th>\n",
       "      <td>32.456000</td>\n",
       "    </tr>\n",
       "    <tr>\n",
       "      <th>75%</th>\n",
       "      <td>45.459000</td>\n",
       "    </tr>\n",
       "    <tr>\n",
       "      <th>max</th>\n",
       "      <td>438.536000</td>\n",
       "    </tr>\n",
       "  </tbody>\n",
       "</table>\n",
       "</div>"
      ],
      "text/plain": [
       "                  0\n",
       "count  39946.000000\n",
       "mean      44.843125\n",
       "std       43.432122\n",
       "min      -45.903000\n",
       "25%       25.964800\n",
       "50%       32.456000\n",
       "75%       45.459000\n",
       "max      438.536000"
      ]
     },
     "execution_count": 13,
     "metadata": {},
     "output_type": "execute_result"
    }
   ],
   "source": [
    "scoreDF2.describe()"
   ]
  },
  {
   "cell_type": "code",
   "execution_count": 14,
   "id": "f510e01e-5de7-43f7-b3a1-d7e5b2f800fa",
   "metadata": {},
   "outputs": [
    {
     "data": {
      "image/png": "[encoded data removed]",
      "text/plain": [
       "<Figure size 640x480 with 1 Axes>"
      ]
     },
     "metadata": {},
     "output_type": "display_data"
    }
   ],
   "source": [
    "plt.boxplot(scoreDF2)\n",
    "plt.show()"
   ]
  },
  {
   "cell_type": "markdown",
   "id": "d5f817a4-bfcc-4d81-b2a3-7962decd85ce",
   "metadata": {},
   "source": [
    "- 3사분위수보다 많으면 신뢰도 좋음 : 2\n",
    "- 1사위분수 - 1.5IQR 이상 3사위분수 미만이면 신뢰도 중간 : 1\n",
    "- 1사위분수 - 1.5IQR미만 신뢰도 나쁨 : 0"
   ]
  },
  {
   "cell_type": "code",
   "execution_count": 15,
   "id": "6eddb2f1-a1c6-4944-a9d1-f0e8e18e2044",
   "metadata": {},
   "outputs": [],
   "source": [
    "q3 = np.percentile(scoreDF2,75)\n",
    "q1 = np.percentile(scoreDF2,25)"
   ]
  },
  {
   "cell_type": "code",
   "execution_count": 16,
   "id": "c8dd27c7-d26f-4ff3-8e59-89e736396845",
   "metadata": {},
   "outputs": [],
   "source": [
    "scoreDF2['0']=scoreDF2['0'].apply(lambda x: 2 if x >= q3 else 1 if x >= q1 else 0)"
   ]
  },
  {
   "cell_type": "code",
   "execution_count": 17,
   "id": "485f8642-8bc4-440c-85df-21da2c0e11f4",
   "metadata": {},
   "outputs": [],
   "source": [
    "# 타겟생성\n",
    "scoreDF = scoreDF2['0'] + scoreDF1['0']\n",
    "scoreDF = scoreDF/2\n",
    "scoreDF = scoreDF.apply(lambda x : 2 if x == 2 else 1 if x >=1 else 0)"
   ]
  },
  {
   "cell_type": "markdown",
   "id": "b7b85eb6-c3e8-4c7b-a076-bcee59a9b5b6",
   "metadata": {},
   "source": [
    "## 토큰화"
   ]
  },
  {
   "cell_type": "code",
   "execution_count": 18,
   "id": "544c46cf-9b9f-43b2-8af2-574eb1898b69",
   "metadata": {},
   "outputs": [],
   "source": [
    "from sklearn.model_selection import train_test_split\n",
    "trainX, testX, trainy, testy = train_test_split(cleanDF[['제목','본문']], scoreDF, test_size= 0.3, random_state= 42, stratify=scoreDF)"
   ]
  },
  {
   "cell_type": "code",
   "execution_count": 19,
   "id": "c48df8b5-27ac-4541-b33d-1ef170948d52",
   "metadata": {
    "scrolled": true
   },
   "outputs": [],
   "source": [
    "# 토큰화, 벡터화\n",
    "from keras import preprocessing\n",
    "from keras.utils import pad_sequences\n",
    "\n",
    "vocab_size = 1000\n",
    "max_sequence_length = 100\n",
    "# num_words에 지정된 만큼만 숫자로 반환, 나머지는 0으로 반환\n",
    "tokenizer = preprocessing.text.Tokenizer(num_words=vocab_size, oov_token=\"<oov>\")    # oov_tok을 사용하여 사전에 없는 단어집합을 만듬\n",
    "tokenizer.fit_on_texts(trainX['제목'])\n",
    "\n",
    "\n",
    "title_train_sequences = tokenizer.texts_to_sequences(trainX['제목'])\n",
    "title_train_padded = pad_sequences(title_train_sequences, maxlen=max_sequence_length)\n",
    "title_test_sequences = tokenizer.texts_to_sequences(testX['제목'])\n",
    "title_test_padded = pad_sequences(title_test_sequences, maxlen=max_sequence_length)\n",
    "\n",
    "\n",
    "tokenizer.fit_on_texts(trainX['본문'])\n",
    "body_train_sequences = tokenizer.texts_to_sequences(trainX['본문'])\n",
    "body_train_padded = pad_sequences(body_train_sequences, maxlen=max_sequence_length)\n",
    "body_test_sequences = tokenizer.texts_to_sequences(testX['본문'])\n",
    "body_test_padded = pad_sequences(body_test_sequences, maxlen=max_sequence_length)"
   ]
  },
  {
   "cell_type": "code",
   "execution_count": 20,
   "id": "540d7771-f2d8-40c2-b296-edfd76b00fb9",
   "metadata": {},
   "outputs": [],
   "source": [
    "# 범주화 원핫인코딩\n",
    "import tensorflow as tf\n",
    "from keras.utils import to_categorical\n",
    "# Assuming trainy and testy are categorical labels (0, 1, 2 for example)\n",
    "trainy_one_hot = to_categorical(trainy, num_classes=3)\n",
    "testy_one_hot = to_categorical(testy, num_classes=3)"
   ]
  },
  {
   "cell_type": "markdown",
   "id": "7512e059-2343-4cfe-a230-1197c5338246",
   "metadata": {},
   "source": [
    "## 모델"
   ]
  },
  {
   "cell_type": "code",
   "execution_count": 21,
   "id": "fee52e8a-a50f-404c-aedb-83f34e4ffce7",
   "metadata": {},
   "outputs": [
    {
     "name": "stdout",
     "output_type": "stream",
     "text": [
      "Model: \"model\"\n",
      "__________________________________________________________________________________________________\n",
      " Layer (type)                Output Shape                 Param #   Connected to                  \n",
      "==================================================================================================\n",
      " input_1 (InputLayer)        [(None, 100)]                0         []                            \n",
      "                                                                                                  \n",
      " input_2 (InputLayer)        [(None, 100)]                0         []                            \n",
      "                                                                                                  \n",
      " embedding (Embedding)       (None, 100, 64)              64000     ['input_1[0][0]',             \n",
      "                                                                     'input_2[0][0]']             \n",
      "                                                                                                  \n",
      " lstm (LSTM)                 (None, 100, 64)              33024     ['embedding[0][0]']           \n",
      "                                                                                                  \n",
      " lstm_2 (LSTM)               (None, 100, 64)              33024     ['embedding[1][0]']           \n",
      "                                                                                                  \n",
      " lstm_1 (LSTM)               (None, 64)                   33024     ['lstm[0][0]']                \n",
      "                                                                                                  \n",
      " lstm_3 (LSTM)               (None, 64)                   33024     ['lstm_2[0][0]']              \n",
      "                                                                                                  \n",
      " concatenate (Concatenate)   (None, 128)                  0         ['lstm_1[0][0]',              \n",
      "                                                                     'lstm_3[0][0]']              \n",
      "                                                                                                  \n",
      " dropout (Dropout)           (None, 128)                  0         ['concatenate[0][0]']         \n",
      "                                                                                                  \n",
      " dense (Dense)               (None, 64)                   8256      ['dropout[0][0]']             \n",
      "                                                                                                  \n",
      " dense_1 (Dense)             (None, 3)                    195       ['dense[0][0]']               \n",
      "                                                                                                  \n",
      "==================================================================================================\n",
      "Total params: 204547 (799.01 KB)\n",
      "Trainable params: 204547 (799.01 KB)\n",
      "Non-trainable params: 0 (0.00 Byte)\n",
      "__________________________________________________________________________________________________\n"
     ]
    }
   ],
   "source": [
    "from keras.layers import Input, Embedding, LSTM, concatenate, Dense, Dropout\n",
    "from keras.models import Model\n",
    "\n",
    "max_sequence_length = 100\n",
    "# Define input layers\n",
    "title_input = Input(shape=(max_sequence_length,))\n",
    "body_input = Input(shape=(max_sequence_length,))\n",
    "\n",
    "# Shared embedding layer\n",
    "embedding_layer = Embedding(input_dim=vocab_size, output_dim=64, input_length=max_sequence_length)\n",
    "\n",
    "# Apply the embedding layer to both inputs\n",
    "title_embedding = embedding_layer(title_input)\n",
    "body_embedding = embedding_layer(body_input)\n",
    "\n",
    "# Apply LSTM to each input\n",
    "title_lstm = LSTM(64, activation='relu', return_sequences=True)(title_embedding)\n",
    "title_lstm = LSTM(64, activation='relu')(title_lstm)\n",
    "\n",
    "body_lstm = LSTM(64, activation='relu', return_sequences=True)(body_embedding)\n",
    "body_lstm = LSTM(64, activation='relu')(body_lstm)\n",
    "\n",
    "# Concatenate the outputs\n",
    "merged = concatenate([title_lstm, body_lstm])\n",
    "\n",
    "# Apply Dropout\n",
    "merged = Dropout(0.4)(merged)  # You can adjust the dropout rate as needed\n",
    "\n",
    "# Additional Dense layer\n",
    "merged = Dense(64, activation='relu')(merged)\n",
    "\n",
    "# Output layer\n",
    "output_layer = Dense(3, activation='softmax')(merged)\n",
    "\n",
    "# Create the model\n",
    "model = Model(inputs=[title_input, body_input], outputs=output_layer)\n",
    "\n",
    "# Compile the model\n",
    "model.compile(optimizer='adam', loss='categorical_crossentropy', metrics=['accuracy'])\n",
    "\n",
    "# Model Summary\n",
    "model.summary()"
   ]
  },
  {
   "cell_type": "code",
   "execution_count": 22,
   "id": "f1929b6a-3818-456a-b408-483a70262002",
   "metadata": {},
   "outputs": [
    {
     "name": "stdout",
     "output_type": "stream",
     "text": [
      "Epoch 1/200\n",
      "280/280 [==============================] - 80s 271ms/step - loss: 344193.3750 - accuracy: 0.6850 - val_loss: 0.7073 - val_accuracy: 0.6839\n",
      "Epoch 2/200\n"
     ]
    },
    {
     "name": "stderr",
     "output_type": "stream",
     "text": [
      "C:\\Users\\LG\\anaconda3\\envs\\daegu\\lib\\site-packages\\keras\\src\\engine\\training.py:3000: UserWarning: You are saving your model as an HDF5 file via `model.save()`. This file format is considered legacy. We recommend using instead the native Keras format, e.g. `model.save('my_model.keras')`.\n",
      "  saving_api.save_model(\n"
     ]
    },
    {
     "name": "stdout",
     "output_type": "stream",
     "text": [
      "280/280 [==============================] - 91s 325ms/step - loss: 4252803.0000 - accuracy: 0.6889 - val_loss: 0.7095 - val_accuracy: 0.6847\n",
      "Epoch 3/200\n",
      "280/280 [==============================] - 134s 480ms/step - loss: 0.6988 - accuracy: 0.6862 - val_loss: 0.7000 - val_accuracy: 0.6856\n",
      "Epoch 4/200\n",
      "280/280 [==============================] - 129s 462ms/step - loss: 0.6898 - accuracy: 0.6856 - val_loss: 0.6902 - val_accuracy: 0.6889\n",
      "Epoch 5/200\n",
      "280/280 [==============================] - 126s 451ms/step - loss: 0.6808 - accuracy: 0.6881 - val_loss: 0.6848 - val_accuracy: 0.6931\n",
      "Epoch 6/200\n",
      "280/280 [==============================] - 113s 402ms/step - loss: 0.6740 - accuracy: 0.6909 - val_loss: 0.6837 - val_accuracy: 0.6885\n",
      "Epoch 7/200\n",
      "280/280 [==============================] - 107s 382ms/step - loss: 0.6666 - accuracy: 0.6919 - val_loss: 0.6777 - val_accuracy: 0.6943\n",
      "Epoch 8/200\n",
      "280/280 [==============================] - 128s 456ms/step - loss: 0.6599 - accuracy: 0.6943 - val_loss: 0.6754 - val_accuracy: 0.6963\n",
      "Epoch 9/200\n",
      "280/280 [==============================] - 124s 443ms/step - loss: 0.6552 - accuracy: 0.6983 - val_loss: 0.6727 - val_accuracy: 0.6968\n",
      "Epoch 10/200\n",
      "280/280 [==============================] - 107s 382ms/step - loss: 0.6511 - accuracy: 0.7019 - val_loss: 0.6683 - val_accuracy: 0.7020\n",
      "Epoch 11/200\n",
      "280/280 [==============================] - 118s 420ms/step - loss: 0.6431 - accuracy: 0.7072 - val_loss: 0.6632 - val_accuracy: 0.7032\n",
      "Epoch 12/200\n",
      "280/280 [==============================] - 112s 402ms/step - loss: 0.6383 - accuracy: 0.7089 - val_loss: 0.6652 - val_accuracy: 0.7022\n",
      "Epoch 13/200\n",
      "280/280 [==============================] - 111s 395ms/step - loss: 0.6341 - accuracy: 0.7090 - val_loss: 0.6645 - val_accuracy: 0.7042\n",
      "Epoch 14/200\n",
      "280/280 [==============================] - 123s 441ms/step - loss: 0.6327 - accuracy: 0.7085 - val_loss: 0.6631 - val_accuracy: 0.7067\n",
      "Epoch 15/200\n",
      "280/280 [==============================] - 118s 421ms/step - loss: 0.6288 - accuracy: 0.7102 - val_loss: 0.6676 - val_accuracy: 0.7054\n",
      "Epoch 16/200\n",
      "280/280 [==============================] - ETA: 0s - loss: 0.6255 - accuracy: 0.7122Restoring model weights from the end of the best epoch: 11.\n",
      "280/280 [==============================] - 103s 368ms/step - loss: 0.6255 - accuracy: 0.7122 - val_loss: 0.6589 - val_accuracy: 0.7073\n",
      "Epoch 16: early stopping\n"
     ]
    }
   ],
   "source": [
    "from keras.callbacks import ModelCheckpoint, EarlyStopping\n",
    "\n",
    "# Define callbacks\n",
    "checkpoint = ModelCheckpoint(\"best_model.h5\", monitor=\"val_accuracy\", save_best_only=True)\n",
    "early_stopping = EarlyStopping(\n",
    "    monitor=\"val_loss\",\n",
    "    patience=5,\n",
    "    min_delta=0.005,\n",
    "    mode='min',  # The indicator must decrease to be considered the best model\n",
    "    verbose=1,\n",
    "    restore_best_weights=True\n",
    ")\n",
    "\n",
    "# Fit the model with callbacks\n",
    "history = model.fit(\n",
    "    [title_train_padded, body_train_padded],\n",
    "    trainy_one_hot,\n",
    "    epochs=200,  # You can adjust the number of epochs\n",
    "    batch_size=100,  # You can adjust the batch size\n",
    "    validation_data=([title_test_padded, body_test_padded], testy_one_hot),\n",
    "    callbacks=[checkpoint, early_stopping],\n",
    "    verbose=1\n",
    ")"
   ]
  },
  {
   "cell_type": "code",
   "execution_count": null,
   "id": "1c948e2b-aad4-4d91-b3c0-d4670a8b2b45",
   "metadata": {},
   "outputs": [],
   "source": []
  },
  {
   "cell_type": "code",
   "execution_count": null,
   "id": "47de7e3a-0731-4c7b-a364-6feb0ba5a937",
   "metadata": {},
   "outputs": [],
   "source": []
  },
  {
   "cell_type": "code",
   "execution_count": 24,
   "id": "d1c61c2c-c999-4d6b-817c-88b92f560754",
   "metadata": {},
   "outputs": [],
   "source": [
    "from keras.layers import Input, Embedding, LSTM, concatenate, Dense, Dropout\n",
    "from keras.models import Model\n",
    "\n",
    "max_sequence_length = 100\n",
    "# Define input layers\n",
    "title_input = Input(shape=(max_sequence_length,))\n",
    "body_input = Input(shape=(max_sequence_length,))\n",
    "\n",
    "# Shared embedding layer\n",
    "embedding_layer = Embedding(input_dim=vocab_size, output_dim=64, input_length=max_sequence_length)\n",
    "\n",
    "# Apply the embedding layer to both inputs\n",
    "title_embedding = embedding_layer(title_input)\n",
    "body_embedding = embedding_layer(body_input)\n",
    "\n",
    "# Apply LSTM to each input\n",
    "title_lstm = LSTM(64, activation='relu', return_sequences=True)(title_embedding)\n",
    "title_lstm = LSTM(64, activation='relu')(title_lstm)\n",
    "\n",
    "body_lstm = LSTM(64, activation='relu', return_sequences=True)(body_embedding)\n",
    "body_lstm = LSTM(64, activation='relu')(body_lstm)\n",
    "\n",
    "# Concatenate the outputs\n",
    "merged = concatenate([title_lstm, body_lstm])\n",
    "\n",
    "# Apply Dropout\n",
    "merged = Dropout(0.4)(merged)  # You can adjust the dropout rate as needed\n",
    "\n",
    "# Additional Dense layer\n",
    "merged = Dense(64, activation='relu')(merged)\n",
    "\n",
    "# Output layer\n",
    "output_layer = Dense(1, activation='softmax')(merged)\n",
    "\n",
    "# Create the model\n",
    "model_lstm = Model(inputs=[title_input, body_input], outputs=output_layer)\n",
    "\n",
    "# Compile the model\n",
    "model_lstm.compile(optimizer='adam', loss='categorical_crossentropy', metrics=['accuracy'])\n",
    "\n",
    "# Model Summary\n",
    "model_lstm.summary()"
   ]
  },
  {
   "cell_type": "code",
   "execution_count": null,
   "id": "cb5a633e-65e4-4c1c-8a7e-46e25574531d",
   "metadata": {},
   "outputs": [],
   "source": []
  },
  {
   "cell_type": "code",
   "execution_count": null,
   "id": "278676ae-1298-4c9a-8ca0-950f6b44d314",
   "metadata": {},
   "outputs": [],
   "source": []
  }
 ],
 "metadata": {
  "kernelspec": {
   "display_name": "Python 3 (ipykernel)",
   "language": "python",
   "name": "python3"
  },
  "language_info": {
   "codemirror_mode": {
    "name": "ipython",
    "version": 3
   },
   "file_extension": ".py",
   "mimetype": "text/x-python",
   "name": "python",
   "nbconvert_exporter": "python",
   "pygments_lexer": "ipython3",
   "version": "3.8.18"
  }
 },
 "nbformat": 4,
 "nbformat_minor": 5
}
