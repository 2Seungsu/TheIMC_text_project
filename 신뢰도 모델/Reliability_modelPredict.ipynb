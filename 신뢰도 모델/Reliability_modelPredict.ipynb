{
 "cells": [
  {
   "cell_type": "markdown",
   "id": "f1dfc9ce-c38f-4fb0-a98f-25ccf667cce5",
   "metadata": {},
   "source": [
    "## 최근 데이터 10개로 predict 해보기"
   ]
  },
  {
   "cell_type": "code",
   "execution_count": 1,
   "id": "032c9f51-6678-43f1-a8f7-93ad1f47c3c4",
   "metadata": {},
   "outputs": [],
   "source": [
    "import pandas as pd\n",
    "import numpy as np"
   ]
  },
  {
   "cell_type": "code",
   "execution_count": 2,
   "id": "99cce610-6d92-44e4-b77f-f1c55f95e970",
   "metadata": {},
   "outputs": [],
   "source": [
    "from bs4 import BeautifulSoup\n",
    "import requests\n",
    "import time"
   ]
  },
  {
   "cell_type": "code",
   "execution_count": 3,
   "id": "7a418540-603b-4769-96a3-4f695f1b13bb",
   "metadata": {},
   "outputs": [],
   "source": [
    "url_daegu = 'https://search.naver.com/search.naver?where=news&sm=tab_pge&query=%EB%8C%80%EA%B5%AC&sort=0&photo=0&field=0&pd=0&ds=&de=&cluster_rank=47&mynews=0&office_type=0&office_section_code=0&news_office_checked=&office_category=0&service_area=0&nso=so:r,p:all,a:all&start=1'\n",
    "response = requests.get(url_daegu)"
   ]
  },
  {
   "cell_type": "code",
   "execution_count": 4,
   "id": "3af3bfcc-aae2-4ded-aa36-0e0b7e635f91",
   "metadata": {
    "scrolled": true
   },
   "outputs": [],
   "source": [
    "html_ = BeautifulSoup(response.text)\n",
    "newsList = html_.find('div', class_ = 'group_news' ).find_all('div', class_ = 'news_info')"
   ]
  },
  {
   "cell_type": "code",
   "execution_count": 5,
   "id": "9d4a9266-016c-48bc-968d-4391c95e264b",
   "metadata": {},
   "outputs": [
    {
     "data": {
      "text/plain": [
       "'https://n.news.naver.com/mnews/article/003/0012251555?sid=101'"
      ]
     },
     "execution_count": 5,
     "metadata": {},
     "output_type": "execute_result"
    }
   ],
   "source": [
    "newsList[0].find_all('a')[-1]['href']"
   ]
  },
  {
   "cell_type": "code",
   "execution_count": 6,
   "id": "1e96e81e-1d43-47be-b06e-b2c30950ad7d",
   "metadata": {},
   "outputs": [],
   "source": [
    "url_ = newsList[0].find_all('a')[-1]['href']\n",
    "response_ = requests.get(url_)"
   ]
  },
  {
   "cell_type": "code",
   "execution_count": 7,
   "id": "3ee1fda5-5e9b-465d-8089-024f3f67309b",
   "metadata": {},
   "outputs": [],
   "source": [
    "html__ = BeautifulSoup(response_.text)"
   ]
  },
  {
   "cell_type": "code",
   "execution_count": 8,
   "id": "6d8355c7-6ba1-4466-8de6-326ffaf6ac31",
   "metadata": {},
   "outputs": [
    {
     "data": {
      "text/plain": [
       "'\"서울부터 대구까지 232㎞ 거리\"…22만개 팔린 \\'이 소파\\''"
      ]
     },
     "execution_count": 8,
     "metadata": {},
     "output_type": "execute_result"
    }
   ],
   "source": [
    "title = html__.find('div',class_= 'media_end_head_title').text.replace('\\n','').replace('\\t','').replace('\\r','')\n",
    "title"
   ]
  },
  {
   "cell_type": "code",
   "execution_count": 9,
   "id": "365a1b76-5d7d-45f5-8ab9-81c9ca5c7cb0",
   "metadata": {},
   "outputs": [
    {
     "data": {
      "text/plain": [
       "\"신세계까사 까사미아 캄포 소파패브릭·착석감, 모듈기능이 강점[서울=뉴시스] 신세계까사 까사미아 캄포 소파. (사진=신세계까사 제공) 2023.12.06. photo@newsis.com[서울=뉴시스] 배민욱 기자 = 신세계까사의 베스트셀러 소파 '캄포'가 누적 판매 22만개 돌파했다. 6일 신세계까사에 따르면 캄포는 신세계까사가 신세계그룹 편입 이후 대표 브랜드 '까사미아'의 상품 경쟁력 강화 일환으로 선보인 소파다. 2019년 출시 당시 가죽 소파 선호도가 높던 국내 시장에서 10분에 1개씩 팔리며 패브릭 소파 열풍을 주도했다. 판매된 캄포 소파 제품을 일렬로 나열하면 232㎞다. 서울에서 대구까지 갈 수 있는 거리다.캄포는 4년째 베스트셀러의 자리를 지키고 있다. 캄포 소파의 인기 배경에는 기능성 패브릭, 편안한 착석감 , 모듈 기능의 장점이 고르게 작용된 것으로 보인다. 신세계까사는 캄포 누적 판매 22만개 돌파를 기념해 '어메이징 캄포' 프로모션을 내년 1월 14일까지 진행한다. 지난달 30일 이전까지 신세계까사의 온라인 쇼핑 플랫폼 '굳닷컴'과 기타 온라인몰, 까사미아 오프라인 매장에서 캄포를 구매한 고객은 '굳닷컴'에서 캄포 구매 인증 시 쇼핑 지원금 1만 포인트를 받는다. 굳닷컴이나 까사미아 오프라인 매장에서 캄포를 구매한 고객이 매장에서 직원을 통해 구매 인증 후 까사미아 제품을 구매하면 금액별로 신세계상품권 2만·4만·6만원권도 선물한다.이벤트 기간 내 굳닷컴에서 캄포 클래식 또는 슬림 소파 신규 구매 고객은 기본 모듈 커버 1세트와 굳포인트 5만점 페이백 등의 혜택을 제공 받는다. 17일까지 매장에서 웨딩·입주 클럽 가입 후 캄포 플러스 제품을 300만원 이상 구매하면 신세계상품권 10만원권이 제공된다. SNS(사회관계망서비스) 공유 이벤트도 있다. 캄포와 함께 한 일상의 순간을 개인 SNS에 공유하면 추첨을 통해 까사미아 상품권 50만원, 굳포인트 3만점, 스타벅스 기프티콘 등이 증정된다. 자세한 내용은 까사미아 공식 인스타그램에서 확인할 수 있다．\""
      ]
     },
     "execution_count": 9,
     "metadata": {},
     "output_type": "execute_result"
    }
   ],
   "source": [
    "content = html__.find('article',id = 'dic_area').text.replace('\\n','').replace('\\t','').replace('\\r','')\n",
    "content"
   ]
  },
  {
   "cell_type": "markdown",
   "id": "86d26c98-24f4-4e56-806c-5f685aafea31",
   "metadata": {},
   "source": [
    "### 신뢰도 모델"
   ]
  },
  {
   "cell_type": "code",
   "execution_count": 10,
   "id": "0e368295-5029-42f4-8cbc-72ca85aaec3d",
   "metadata": {},
   "outputs": [],
   "source": [
    "# 토큰화, 벡터화\n",
    "from keras import preprocessing\n",
    "from keras.utils import pad_sequences\n",
    "from keras.models import load_model\n",
    "\n",
    "def reliability_input(title, content):\n",
    "    vocab_size = 1000            # 상위 1000개의 고유한 단어로 제한한다는 의미\n",
    "    max_sequence_length = 100    # 시퀀스에 허용되는 최대 토큰 수(단어,문자  단위)\n",
    "    \n",
    "    # num_words에 지정된 만큼만 숫자로 반환 - 부족하면 0으로 채우고, 넘치면 잘림\n",
    "    tokenizer = preprocessing.text.Tokenizer(num_words=vocab_size, oov_token=\"<oov>\")    # oov_tok을 사용하여 사전에 없는 단어집합을 만듬\n",
    "    tokenizer.fit_on_texts([title])\n",
    "    title_sequences = tokenizer.texts_to_sequences([title])\n",
    "    title_padded = pad_sequences(title_sequences, maxlen=max_sequence_length)\n",
    "    tokenizer.fit_on_texts([content])\n",
    "    content_sequences = tokenizer.texts_to_sequences([content])\n",
    "    content_padded = pad_sequences(content_sequences, maxlen=max_sequence_length)\n",
    "\n",
    "\n",
    "    # Load the saved model\n",
    "    loaded_model = load_model(\"best_cnn_model.h5\")\n",
    "    # Make predictions\n",
    "    predictions = loaded_model.predict([title_padded, content_padded])\n",
    "    predictions = predictions + 15\n",
    "    predictions = np.clip(predictions, a_min=0,a_max=100)\n",
    "    predictions = int(predictions.round())\n",
    "\n",
    "    return predictions"
   ]
  },
  {
   "cell_type": "code",
   "execution_count": 8,
   "id": "a23953a5-90b6-4265-9c6a-2fc861864d23",
   "metadata": {},
   "outputs": [
    {
     "data": {
      "text/plain": [
       "'\"서울부터 대구까지 232㎞ 거리\"…22만개 팔린 \\'이 소파\\''"
      ]
     },
     "execution_count": 8,
     "metadata": {},
     "output_type": "execute_result"
    }
   ],
   "source": [
    "title"
   ]
  },
  {
   "cell_type": "code",
   "execution_count": 9,
   "id": "060ad9d4-1181-4d73-a978-39995b4bd24e",
   "metadata": {},
   "outputs": [
    {
     "data": {
      "text/plain": [
       "\"신세계까사 까사미아 캄포 소파패브릭·착석감, 모듈기능이 강점[서울=뉴시스] 신세계까사 까사미아 캄포 소파. (사진=신세계까사 제공) 2023.12.06. photo@newsis.com[서울=뉴시스] 배민욱 기자 = 신세계까사의 베스트셀러 소파 '캄포'가 누적 판매 22만개 돌파했다. 6일 신세계까사에 따르면 캄포는 신세계까사가 신세계그룹 편입 이후 대표 브랜드 '까사미아'의 상품 경쟁력 강화 일환으로 선보인 소파다. 2019년 출시 당시 가죽 소파 선호도가 높던 국내 시장에서 10분에 1개씩 팔리며 패브릭 소파 열풍을 주도했다. 판매된 캄포 소파 제품을 일렬로 나열하면 232㎞다. 서울에서 대구까지 갈 수 있는 거리다.캄포는 4년째 베스트셀러의 자리를 지키고 있다. 캄포 소파의 인기 배경에는 기능성 패브릭, 편안한 착석감 , 모듈 기능의 장점이 고르게 작용된 것으로 보인다. 신세계까사는 캄포 누적 판매 22만개 돌파를 기념해 '어메이징 캄포' 프로모션을 내년 1월 14일까지 진행한다. 지난달 30일 이전까지 신세계까사의 온라인 쇼핑 플랫폼 '굳닷컴'과 기타 온라인몰, 까사미아 오프라인 매장에서 캄포를 구매한 고객은 '굳닷컴'에서 캄포 구매 인증 시 쇼핑 지원금 1만 포인트를 받는다. 굳닷컴이나 까사미아 오프라인 매장에서 캄포를 구매한 고객이 매장에서 직원을 통해 구매 인증 후 까사미아 제품을 구매하면 금액별로 신세계상품권 2만·4만·6만원권도 선물한다.이벤트 기간 내 굳닷컴에서 캄포 클래식 또는 슬림 소파 신규 구매 고객은 기본 모듈 커버 1세트와 굳포인트 5만점 페이백 등의 혜택을 제공 받는다. 17일까지 매장에서 웨딩·입주 클럽 가입 후 캄포 플러스 제품을 300만원 이상 구매하면 신세계상품권 10만원권이 제공된다. SNS(사회관계망서비스) 공유 이벤트도 있다. 캄포와 함께 한 일상의 순간을 개인 SNS에 공유하면 추첨을 통해 까사미아 상품권 50만원, 굳포인트 3만점, 스타벅스 기프티콘 등이 증정된다. 자세한 내용은 까사미아 공식 인스타그램에서 확인할 수 있다．\""
      ]
     },
     "execution_count": 9,
     "metadata": {},
     "output_type": "execute_result"
    }
   ],
   "source": [
    "content"
   ]
  },
  {
   "cell_type": "code",
   "execution_count": 11,
   "id": "e689e7df-cff6-403a-a84f-9effb9ec38e2",
   "metadata": {},
   "outputs": [
    {
     "name": "stdout",
     "output_type": "stream",
     "text": [
      "1/1 [==============================] - 1s 508ms/step\n"
     ]
    },
    {
     "data": {
      "text/plain": [
       "63"
      ]
     },
     "execution_count": 11,
     "metadata": {},
     "output_type": "execute_result"
    }
   ],
   "source": [
    "pred_=reliability_input(title, content)\n",
    "pred_"
   ]
  },
  {
   "cell_type": "code",
   "execution_count": 12,
   "id": "77dcd8bf-962d-445f-8368-17c191369594",
   "metadata": {},
   "outputs": [
    {
     "data": {
      "text/html": [
       "<div>\n",
       "<style scoped>\n",
       "    .dataframe tbody tr th:only-of-type {\n",
       "        vertical-align: middle;\n",
       "    }\n",
       "\n",
       "    .dataframe tbody tr th {\n",
       "        vertical-align: top;\n",
       "    }\n",
       "\n",
       "    .dataframe thead th {\n",
       "        text-align: right;\n",
       "    }\n",
       "</style>\n",
       "<table border=\"1\" class=\"dataframe\">\n",
       "  <thead>\n",
       "    <tr style=\"text-align: right;\">\n",
       "      <th></th>\n",
       "      <th>제목</th>\n",
       "      <th>본문</th>\n",
       "    </tr>\n",
       "  </thead>\n",
       "  <tbody>\n",
       "    <tr>\n",
       "      <th>0</th>\n",
       "      <td>하윤기, 덩크 9방에 생애 첫 올스타전 MVP</td>\n",
       "      <td>팀 이대성  122 117로 팀 허웅 제압 전성현 3점슛 9개 분전허웅  생애 첫 ...</td>\n",
       "    </tr>\n",
       "    <tr>\n",
       "      <th>1</th>\n",
       "      <td>장제원, 나경원 향해 “제2의 유승민 되지 말기를”</td>\n",
       "      <td>제2의 진박감별사가 당 쥐락펴락  나경원 비판에 응수   국민의힘 장제원 의원  나...</td>\n",
       "    </tr>\n",
       "    <tr>\n",
       "      <th>2</th>\n",
       "      <td>[대구 국회의원 평가 여론조사] 북구갑 양금희 당직 맡아 국회평가 높아</td>\n",
       "      <td>양금희 국민의힘 의원 대구 북구갑 .                        대구...</td>\n",
       "    </tr>\n",
       "    <tr>\n",
       "      <th>3</th>\n",
       "      <td>[대구 국회의원 평가 여론조사] 서구 김상훈 3선 의정활동 평가 무난</td>\n",
       "      <td>김상훈 국민의힘 의원 대구 서구 .                        대구 ...</td>\n",
       "    </tr>\n",
       "    <tr>\n",
       "      <th>4</th>\n",
       "      <td>[대구 국회의원 평가 여론조사] 동구갑 류성걸 의원</td>\n",
       "      <td>류성걸 국민의힘 의원 대구 동구갑 .                        류성...</td>\n",
       "    </tr>\n",
       "    <tr>\n",
       "      <th>...</th>\n",
       "      <td>...</td>\n",
       "      <td>...</td>\n",
       "    </tr>\n",
       "    <tr>\n",
       "      <th>39941</th>\n",
       "      <td>1년 전 銀을 金으로 우상혁 '위대한 도전'</td>\n",
       "      <td>우상혁이 20일 2023 부다페스트 세계육상선수권 남자 높이뛰기 예선에서 바를 넘고...</td>\n",
       "    </tr>\n",
       "    <tr>\n",
       "      <th>39942</th>\n",
       "      <td>[인사] 중소벤처기업부 외</td>\n",
       "      <td>중소벤처기업부  실장급 전보  중소기업정책실장 이대희  소상공인정책실장 원영준  국...</td>\n",
       "    </tr>\n",
       "    <tr>\n",
       "      <th>39943</th>\n",
       "      <td>'명예훼손 실형' 김용호, 조국 김건모 전처에 사과 \"깊이 반성\"</td>\n",
       "      <td>유튜버 김용호씨. 유튜브 채널      강용석 나이트 라이브  캡처연예  출신 유튜...</td>\n",
       "    </tr>\n",
       "    <tr>\n",
       "      <th>39944</th>\n",
       "      <td>이러니 치안 불안할 수 밖에 현장 누빌 순경 1.4만명 부족</td>\n",
       "      <td>윤희근 경찰청장이 18일 충북 충주시 중앙경찰학교에서 열린 신임경찰 제312기 졸업...</td>\n",
       "    </tr>\n",
       "    <tr>\n",
       "      <th>39945</th>\n",
       "      <td>[오늘의 날씨]낮 최고 33도 무더위 일부 지역 소나기</td>\n",
       "      <td>무더운 날씨를 기록한 지난 14일 서울 경복궁을 찾은 관광객들이 양산으로 햇볕을 피...</td>\n",
       "    </tr>\n",
       "  </tbody>\n",
       "</table>\n",
       "<p>39946 rows × 2 columns</p>\n",
       "</div>"
      ],
      "text/plain": [
       "                                            제목  \\\n",
       "0                    하윤기, 덩크 9방에 생애 첫 올스타전 MVP   \n",
       "1                 장제원, 나경원 향해 “제2의 유승민 되지 말기를”   \n",
       "2      [대구 국회의원 평가 여론조사] 북구갑 양금희 당직 맡아 국회평가 높아   \n",
       "3       [대구 국회의원 평가 여론조사] 서구 김상훈 3선 의정활동 평가 무난   \n",
       "4                 [대구 국회의원 평가 여론조사] 동구갑 류성걸 의원   \n",
       "...                                        ...   \n",
       "39941                 1년 전 銀을 金으로 우상혁 '위대한 도전'   \n",
       "39942                           [인사] 중소벤처기업부 외   \n",
       "39943     '명예훼손 실형' 김용호, 조국 김건모 전처에 사과 \"깊이 반성\"   \n",
       "39944        이러니 치안 불안할 수 밖에 현장 누빌 순경 1.4만명 부족   \n",
       "39945           [오늘의 날씨]낮 최고 33도 무더위 일부 지역 소나기   \n",
       "\n",
       "                                                      본문  \n",
       "0      팀 이대성  122 117로 팀 허웅 제압 전성현 3점슛 9개 분전허웅  생애 첫 ...  \n",
       "1      제2의 진박감별사가 당 쥐락펴락  나경원 비판에 응수   국민의힘 장제원 의원  나...  \n",
       "2      양금희 국민의힘 의원 대구 북구갑 .                        대구...  \n",
       "3      김상훈 국민의힘 의원 대구 서구 .                        대구 ...  \n",
       "4      류성걸 국민의힘 의원 대구 동구갑 .                        류성...  \n",
       "...                                                  ...  \n",
       "39941  우상혁이 20일 2023 부다페스트 세계육상선수권 남자 높이뛰기 예선에서 바를 넘고...  \n",
       "39942  중소벤처기업부  실장급 전보  중소기업정책실장 이대희  소상공인정책실장 원영준  국...  \n",
       "39943  유튜버 김용호씨. 유튜브 채널      강용석 나이트 라이브  캡처연예  출신 유튜...  \n",
       "39944  윤희근 경찰청장이 18일 충북 충주시 중앙경찰학교에서 열린 신임경찰 제312기 졸업...  \n",
       "39945  무더운 날씨를 기록한 지난 14일 서울 경복궁을 찾은 관광객들이 양산으로 햇볕을 피...  \n",
       "\n",
       "[39946 rows x 2 columns]"
      ]
     },
     "execution_count": 12,
     "metadata": {},
     "output_type": "execute_result"
    }
   ],
   "source": [
    "ds = pd.read_csv('../DB_datas/output.csv')\n",
    "ds = ds[['제목','본문']]\n",
    "ds"
   ]
  },
  {
   "cell_type": "code",
   "execution_count": null,
   "id": "f396e41a-dad5-4498-99fd-5709338aa6c2",
   "metadata": {},
   "outputs": [],
   "source": []
  }
 ],
 "metadata": {
  "kernelspec": {
   "display_name": "Python 3 (ipykernel)",
   "language": "python",
   "name": "python3"
  },
  "language_info": {
   "codemirror_mode": {
    "name": "ipython",
    "version": 3
   },
   "file_extension": ".py",
   "mimetype": "text/x-python",
   "name": "python",
   "nbconvert_exporter": "python",
   "pygments_lexer": "ipython3",
   "version": "3.8.18"
  }
 },
 "nbformat": 4,
 "nbformat_minor": 5
}
