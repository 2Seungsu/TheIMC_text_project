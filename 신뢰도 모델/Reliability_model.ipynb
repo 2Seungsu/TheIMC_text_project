{
 "cells": [
  {
   "cell_type": "code",
   "execution_count": 1,
   "metadata": {
    "executionInfo": {
     "elapsed": 1037,
     "status": "ok",
     "timestamp": 1700477388228,
     "user": {
      "displayName": "이승수",
      "userId": "17479038831365834577"
     },
     "user_tz": -540
    },
    "id": "d8LZ_NwQWXJ5"
   },
   "outputs": [],
   "source": [
    "import pandas as pd\n",
    "import numpy as np\n",
    "import re\n",
    "import matplotlib.pyplot as plt"
   ]
  },
  {
   "cell_type": "code",
   "execution_count": 3,
   "metadata": {
    "executionInfo": {
     "elapsed": 3685,
     "status": "ok",
     "timestamp": 1700477391911,
     "user": {
      "displayName": "이승수",
      "userId": "17479038831365834577"
     },
     "user_tz": -540
    },
    "id": "jhcmU8rPWjl9"
   },
   "outputs": [],
   "source": [
    "cleanDF=pd.read_csv('output.csv')[['Unnamed: 0','제목','본문']]\n",
    "scoreDF1 = pd.read_csv('가중치점수1.csv',index_col=0)\n",
    "scoreDF2 = pd.read_csv('가중치가치점수1.csv',index_col=0)"
   ]
  },
  {
   "cell_type": "code",
   "execution_count": 4,
   "metadata": {},
   "outputs": [
    {
     "data": {
      "image/png": "[encoded data removed]",
      "text/plain": [
       "<Figure size 640x480 with 1 Axes>"
      ]
     },
     "metadata": {},
     "output_type": "display_data"
    }
   ],
   "source": [
    "plt.boxplot(scoreDF1)\n",
    "plt.show()"
   ]
  },
  {
   "cell_type": "markdown",
   "metadata": {},
   "source": [
    "이상치 지우고 점수의 상,중,하로 분류"
   ]
  },
  {
   "cell_type": "code",
   "execution_count": 5,
   "metadata": {},
   "outputs": [],
   "source": [
    "q1 = scoreDF1['0'].quantile(0.25)\n",
    "q3 = scoreDF1['0'].quantile(0.75)\n",
    "iqr = q3 - q1\n",
    "scoreDF1 = scoreDF1[(scoreDF1 <= q3 + 1.5*iqr ) &(scoreDF1 >= q1 -1.5*iqr)].fillna(0)"
   ]
  },
  {
   "cell_type": "code",
   "execution_count": 6,
   "metadata": {},
   "outputs": [],
   "source": [
    "q1 = scoreDF2['0'].quantile(0.25)\n",
    "q3 = scoreDF2['0'].quantile(0.75)\n",
    "iqr = q3 - q1\n",
    "scoreDF2 = scoreDF2[(scoreDF2 <= q3 + 1.5*iqr ) &(scoreDF2 >= q1 - 1.5*iqr)].fillna(0)"
   ]
  },
  {
   "cell_type": "code",
   "execution_count": 7,
   "metadata": {},
   "outputs": [],
   "source": [
    "scoreDF = scoreDF1 + scoreDF2\n",
    "ndf = pd.concat([cleanDF.set_index('Unnamed: 0'),scoreDF ], axis=1)\n",
    "ndf = ndf[ndf != 0].dropna()\n",
    "ndf.to_csv('신뢰도분석파일.csv', encoding='utf-8')"
   ]
  },
  {
   "cell_type": "markdown",
   "metadata": {},
   "source": [
    "### 타겟생성_상,중,하"
   ]
  },
  {
   "cell_type": "code",
   "execution_count": 8,
   "metadata": {},
   "outputs": [],
   "source": [
    "ndf['rank'] = ndf['0'].rank(method='first')\n",
    "ndf.sort_values('rank',inplace=True)\n",
    "one3, two3 = ndf['rank'].quantile([0.2,0.6])\n",
    "ndf['상중하'] = ndf['rank'].apply(lambda x: 2 if x >= two3 else 1 if x >= one3 else 0)\n",
    "ndf.to_csv('신뢰도분석파일.csv', encoding='utf-8')"
   ]
  },
  {
   "cell_type": "code",
   "execution_count": 9,
   "metadata": {},
   "outputs": [
    {
     "data": {
      "text/html": [
       "<div>\n",
       "<style scoped>\n",
       "    .dataframe tbody tr th:only-of-type {\n",
       "        vertical-align: middle;\n",
       "    }\n",
       "\n",
       "    .dataframe tbody tr th {\n",
       "        vertical-align: top;\n",
       "    }\n",
       "\n",
       "    .dataframe thead th {\n",
       "        text-align: right;\n",
       "    }\n",
       "</style>\n",
       "<table border=\"1\" class=\"dataframe\">\n",
       "  <thead>\n",
       "    <tr style=\"text-align: right;\">\n",
       "      <th></th>\n",
       "      <th>제목</th>\n",
       "      <th>본문</th>\n",
       "      <th>0</th>\n",
       "      <th>rank</th>\n",
       "      <th>상중하</th>\n",
       "    </tr>\n",
       "  </thead>\n",
       "  <tbody>\n",
       "    <tr>\n",
       "      <th>949</th>\n",
       "      <td>1월11일 인사</td>\n",
       "      <td>행정안전부  전보   과장급  이북5도 황해도 사무국장 배이철  대통령기록관 생산지...</td>\n",
       "      <td>-2.463000</td>\n",
       "      <td>1.0</td>\n",
       "      <td>0</td>\n",
       "    </tr>\n",
       "    <tr>\n",
       "      <th>971</th>\n",
       "      <td>[인사] 국무조정실 국무총리비서실 외</td>\n",
       "      <td>국무조정실 국무총리비서실  과장급  용산공원조성추진기획단 기획총괄 김민정  행정안전...</td>\n",
       "      <td>-2.463000</td>\n",
       "      <td>2.0</td>\n",
       "      <td>0</td>\n",
       "    </tr>\n",
       "    <tr>\n",
       "      <th>2723</th>\n",
       "      <td>[인사] 한국일보 외</td>\n",
       "      <td>룸국   차장  선임 김지은  차장대우  산업1부 이윤주  이슈365팀 김청환  스...</td>\n",
       "      <td>-2.463000</td>\n",
       "      <td>3.0</td>\n",
       "      <td>0</td>\n",
       "    </tr>\n",
       "    <tr>\n",
       "      <th>2819</th>\n",
       "      <td>[인사]문화일보 外</td>\n",
       "      <td>논설고문 이철호 교육부  교육부일반직고위공무원 김일수 책임교육정책실장 오승걸 울산광...</td>\n",
       "      <td>-2.463000</td>\n",
       "      <td>4.0</td>\n",
       "      <td>0</td>\n",
       "    </tr>\n",
       "    <tr>\n",
       "      <th>2963</th>\n",
       "      <td>오늘의 인사 - 2023년 1월 2일</td>\n",
       "      <td>보직  논설위원실 논설위원 안홍욱  신문국 정치에디터 김진우    국제에디터 조찬제...</td>\n",
       "      <td>-2.463000</td>\n",
       "      <td>5.0</td>\n",
       "      <td>0</td>\n",
       "    </tr>\n",
       "    <tr>\n",
       "      <th>...</th>\n",
       "      <td>...</td>\n",
       "      <td>...</td>\n",
       "      <td>...</td>\n",
       "      <td>...</td>\n",
       "      <td>...</td>\n",
       "    </tr>\n",
       "    <tr>\n",
       "      <th>26196</th>\n",
       "      <td>‘취임 1주년’ 尹 지지율 37.5% 방미평가 긍정 55% 부정 40%</td>\n",
       "      <td>윤석열 대통령이 2일 오전 서울 용산 대통령실 청사에서 열린 국무회의를 주재하고 있...</td>\n",
       "      <td>97.563845</td>\n",
       "      <td>34603.0</td>\n",
       "      <td>2</td>\n",
       "    </tr>\n",
       "    <tr>\n",
       "      <th>33516</th>\n",
       "      <td>서울 아파트 거래량 증가세 뚜렷 대출 풀린 9억원 이하 인기</td>\n",
       "      <td>경기도 성남시 분당구에 아파트가 밀집해 있다. 1   아파트 거래량이 늘고 있다. ...</td>\n",
       "      <td>97.563845</td>\n",
       "      <td>34604.0</td>\n",
       "      <td>2</td>\n",
       "    </tr>\n",
       "    <tr>\n",
       "      <th>36558</th>\n",
       "      <td>1년2개월 만에 지방 아파트값도 하락세 멈춰</td>\n",
       "      <td>규제 완화 등의 효과로 수도권에 이어 지방 아파트값도 1년2개월여 만에 하락세를 멈...</td>\n",
       "      <td>97.563845</td>\n",
       "      <td>34605.0</td>\n",
       "      <td>2</td>\n",
       "    </tr>\n",
       "    <tr>\n",
       "      <th>49276</th>\n",
       "      <td>회복세 부동산 시장 양극화 심화 수도권 ‘온기’ 지방은 ‘냉기’</td>\n",
       "      <td>입주율 매매 청약 엇갈린 행보전국 아파트 입주율 66.7% 기록수도권은 5월 80....</td>\n",
       "      <td>97.563845</td>\n",
       "      <td>34606.0</td>\n",
       "      <td>2</td>\n",
       "    </tr>\n",
       "    <tr>\n",
       "      <th>53320</th>\n",
       "      <td>국내 성인 비만율 32.5% 30대 남성은 절반이 비만</td>\n",
       "      <td>기사와 직접적 관련 없는 참고사진. 게티이미지지난해 성인 비만율이 전년보다 소폭 증...</td>\n",
       "      <td>97.563845</td>\n",
       "      <td>34607.0</td>\n",
       "      <td>2</td>\n",
       "    </tr>\n",
       "  </tbody>\n",
       "</table>\n",
       "<p>34607 rows × 5 columns</p>\n",
       "</div>"
      ],
      "text/plain": [
       "                                            제목  \\\n",
       "949                                   1월11일 인사   \n",
       "971                       [인사] 국무조정실 국무총리비서실 외   \n",
       "2723                               [인사] 한국일보 외   \n",
       "2819                                [인사]문화일보 外   \n",
       "2963                      오늘의 인사 - 2023년 1월 2일   \n",
       "...                                        ...   \n",
       "26196  ‘취임 1주년’ 尹 지지율 37.5% 방미평가 긍정 55% 부정 40%   \n",
       "33516        서울 아파트 거래량 증가세 뚜렷 대출 풀린 9억원 이하 인기   \n",
       "36558                 1년2개월 만에 지방 아파트값도 하락세 멈춰   \n",
       "49276      회복세 부동산 시장 양극화 심화 수도권 ‘온기’ 지방은 ‘냉기’   \n",
       "53320           국내 성인 비만율 32.5% 30대 남성은 절반이 비만   \n",
       "\n",
       "                                                      본문          0     rank  \\\n",
       "949    행정안전부  전보   과장급  이북5도 황해도 사무국장 배이철  대통령기록관 생산지...  -2.463000      1.0   \n",
       "971    국무조정실 국무총리비서실  과장급  용산공원조성추진기획단 기획총괄 김민정  행정안전...  -2.463000      2.0   \n",
       "2723   룸국   차장  선임 김지은  차장대우  산업1부 이윤주  이슈365팀 김청환  스...  -2.463000      3.0   \n",
       "2819   논설고문 이철호 교육부  교육부일반직고위공무원 김일수 책임교육정책실장 오승걸 울산광...  -2.463000      4.0   \n",
       "2963   보직  논설위원실 논설위원 안홍욱  신문국 정치에디터 김진우    국제에디터 조찬제...  -2.463000      5.0   \n",
       "...                                                  ...        ...      ...   \n",
       "26196  윤석열 대통령이 2일 오전 서울 용산 대통령실 청사에서 열린 국무회의를 주재하고 있...  97.563845  34603.0   \n",
       "33516  경기도 성남시 분당구에 아파트가 밀집해 있다. 1   아파트 거래량이 늘고 있다. ...  97.563845  34604.0   \n",
       "36558  규제 완화 등의 효과로 수도권에 이어 지방 아파트값도 1년2개월여 만에 하락세를 멈...  97.563845  34605.0   \n",
       "49276  입주율 매매 청약 엇갈린 행보전국 아파트 입주율 66.7% 기록수도권은 5월 80....  97.563845  34606.0   \n",
       "53320  기사와 직접적 관련 없는 참고사진. 게티이미지지난해 성인 비만율이 전년보다 소폭 증...  97.563845  34607.0   \n",
       "\n",
       "       상중하  \n",
       "949      0  \n",
       "971      0  \n",
       "2723     0  \n",
       "2819     0  \n",
       "2963     0  \n",
       "...    ...  \n",
       "26196    2  \n",
       "33516    2  \n",
       "36558    2  \n",
       "49276    2  \n",
       "53320    2  \n",
       "\n",
       "[34607 rows x 5 columns]"
      ]
     },
     "execution_count": 9,
     "metadata": {},
     "output_type": "execute_result"
    }
   ],
   "source": [
    "ndf"
   ]
  },
  {
   "cell_type": "markdown",
   "metadata": {},
   "source": [
    "### 트레인,테스트 데이터"
   ]
  },
  {
   "cell_type": "code",
   "execution_count": 9,
   "metadata": {
    "executionInfo": {
     "elapsed": 641,
     "status": "ok",
     "timestamp": 1700477392549,
     "user": {
      "displayName": "이승수",
      "userId": "17479038831365834577"
     },
     "user_tz": -540
    },
    "id": "Y8CZnhpaXzTz"
   },
   "outputs": [],
   "source": [
    "# from sklearn.model_selection import train_test_split\n",
    "# trainX, testX, trainy, testy = train_test_split(ndf[['제목','본문']], ndf['상중하'], test_size= 0.3, random_state= 42, stratify=ndf['상중하'])\n",
    "from sklearn.model_selection import train_test_split\n",
    "trainX, testX, trainy, testy = train_test_split(ndf[['제목','본문']], ndf['0'], test_size= 0.3, random_state= 42, stratify=ndf['상중하'])"
   ]
  },
  {
   "cell_type": "markdown",
   "metadata": {},
   "source": [
    "### 토큰화와 패딩 및 임베딩 "
   ]
  },
  {
   "cell_type": "code",
   "execution_count": 10,
   "metadata": {
    "executionInfo": {
     "elapsed": 51456,
     "status": "ok",
     "timestamp": 1700477444003,
     "user": {
      "displayName": "이승수",
      "userId": "17479038831365834577"
     },
     "user_tz": -540
    },
    "id": "ICHC3qs6YEIb"
   },
   "outputs": [],
   "source": [
    "# 토큰화, 벡터화\n",
    "from keras import preprocessing\n",
    "from keras.utils import pad_sequences\n",
    "\n",
    "vocab_size = 1000            # 상위 1000개의 고유한 단어로 제한한다는 의미\n",
    "max_sequence_length = 100    # 시퀀스에 허용되는 최대 토큰 수(단어,문자  단위)\n",
    "\n",
    "# num_words에 지정된 만큼만 숫자로 반환 - 부족하면 0으로 채우고, 넘치면 잘림\n",
    "tokenizer = preprocessing.text.Tokenizer(num_words=vocab_size, oov_token=\"<oov>\")    # oov_tok을 사용하여 사전에 없는 단어집합을 만듬\n",
    "tokenizer.fit_on_texts(trainX['제목'])\n",
    "\n",
    "\n",
    "title_train_sequences = tokenizer.texts_to_sequences(trainX['제목'])\n",
    "title_train_padded = pad_sequences(title_train_sequences, maxlen=max_sequence_length)\n",
    "title_test_sequences = tokenizer.texts_to_sequences(testX['제목'])\n",
    "title_test_padded = pad_sequences(title_test_sequences, maxlen=max_sequence_length)\n",
    "\n",
    "\n",
    "tokenizer.fit_on_texts(trainX['본문'])\n",
    "body_train_sequences = tokenizer.texts_to_sequences(trainX['본문'])\n",
    "body_train_padded = pad_sequences(body_train_sequences, maxlen=max_sequence_length)\n",
    "body_test_sequences = tokenizer.texts_to_sequences(testX['본문'])\n",
    "body_test_padded = pad_sequences(body_test_sequences, maxlen=max_sequence_length)"
   ]
  },
  {
   "cell_type": "code",
   "execution_count": 11,
   "metadata": {
    "executionInfo": {
     "elapsed": 22,
     "status": "ok",
     "timestamp": 1700477444004,
     "user": {
      "displayName": "이승수",
      "userId": "17479038831365834577"
     },
     "user_tz": -540
    },
    "id": "nQ9KDeWkjf0w"
   },
   "outputs": [],
   "source": [
    "# import tensorflow as tf\n",
    "\n",
    "# # Assuming trainy and testy are categorical labels (0, 1, 2 for example)\n",
    "# trainy_one_hot = tf.keras.utils.to_categorical(trainy, num_classes=3)\n",
    "# testy_one_hot = tf.keras.utils.to_categorical(testy, num_classes=3)"
   ]
  },
  {
   "cell_type": "markdown",
   "metadata": {},
   "source": [
    "## 회귀모델"
   ]
  },
  {
   "cell_type": "markdown",
   "metadata": {},
   "source": [
    "## LSTM"
   ]
  },
  {
   "cell_type": "code",
   "execution_count": 12,
   "metadata": {
    "colab": {
     "base_uri": "https://localhost:8080/"
    },
    "executionInfo": {
     "elapsed": 589,
     "status": "ok",
     "timestamp": 1700477444573,
     "user": {
      "displayName": "이승수",
      "userId": "17479038831365834577"
     },
     "user_tz": -540
    },
    "id": "LWlaTT1aX1Yg",
    "outputId": "207f0919-85ec-4ddd-deab-dc000e10a31b"
   },
   "outputs": [
    {
     "name": "stdout",
     "output_type": "stream",
     "text": [
      "Model: \"model\"\n",
      "__________________________________________________________________________________________________\n",
      " Layer (type)                Output Shape                 Param #   Connected to                  \n",
      "==================================================================================================\n",
      " input_1 (InputLayer)        [(None, 100)]                0         []                            \n",
      "                                                                                                  \n",
      " input_2 (InputLayer)        [(None, 100)]                0         []                            \n",
      "                                                                                                  \n",
      " embedding (Embedding)       (None, 100, 64)              64000     ['input_1[0][0]',             \n",
      "                                                                     'input_2[0][0]']             \n",
      "                                                                                                  \n",
      " lstm (LSTM)                 (None, 100, 64)              33024     ['embedding[0][0]']           \n",
      "                                                                                                  \n",
      " lstm_2 (LSTM)               (None, 100, 64)              33024     ['embedding[1][0]']           \n",
      "                                                                                                  \n",
      " lstm_1 (LSTM)               (None, 64)                   33024     ['lstm[0][0]']                \n",
      "                                                                                                  \n",
      " lstm_3 (LSTM)               (None, 64)                   33024     ['lstm_2[0][0]']              \n",
      "                                                                                                  \n",
      " concatenate (Concatenate)   (None, 128)                  0         ['lstm_1[0][0]',              \n",
      "                                                                     'lstm_3[0][0]']              \n",
      "                                                                                                  \n",
      " dropout (Dropout)           (None, 128)                  0         ['concatenate[0][0]']         \n",
      "                                                                                                  \n",
      " dense (Dense)               (None, 64)                   8256      ['dropout[0][0]']             \n",
      "                                                                                                  \n",
      " dense_1 (Dense)             (None, 1)                    65        ['dense[0][0]']               \n",
      "                                                                                                  \n",
      "==================================================================================================\n",
      "Total params: 204417 (798.50 KB)\n",
      "Trainable params: 204417 (798.50 KB)\n",
      "Non-trainable params: 0 (0.00 Byte)\n",
      "__________________________________________________________________________________________________\n"
     ]
    }
   ],
   "source": [
    "from keras.layers import Input, Embedding, LSTM, concatenate, Dense, Dropout\n",
    "from keras.models import Model\n",
    "\n",
    "max_sequence_length = 100\n",
    "# Define input layers\n",
    "title_input = Input(shape=(max_sequence_length,))\n",
    "body_input = Input(shape=(max_sequence_length,))\n",
    "\n",
    "# Shared embedding layer\n",
    "embedding_layer = Embedding(input_dim=vocab_size, output_dim=64, input_length=max_sequence_length)\n",
    "\n",
    "# Apply the embedding layer to both inputs\n",
    "title_embedding = embedding_layer(title_input)\n",
    "body_embedding = embedding_layer(body_input)\n",
    "\n",
    "# Apply LSTM to each input\n",
    "title_lstm = LSTM(64, activation='relu', return_sequences=True)(title_embedding)\n",
    "title_lstm = LSTM(64, activation='relu')(title_lstm)\n",
    "\n",
    "body_lstm = LSTM(64, activation='relu', return_sequences=True)(body_embedding)\n",
    "body_lstm = LSTM(64, activation='relu')(body_lstm)\n",
    "\n",
    "# Concatenate the outputs\n",
    "merged = concatenate([title_lstm, body_lstm])\n",
    "\n",
    "# Apply Dropout\n",
    "merged = Dropout(0.4)(merged)  # You can adjust the dropout rate as needed\n",
    "\n",
    "# Additional Dense layer\n",
    "merged = Dense(64, activation='relu')(merged)\n",
    "\n",
    "# Output layer\n",
    "output_layer = Dense(1, activation='linear')(merged)\n",
    "\n",
    "# Create the model\n",
    "model_lstm = Model(inputs=[title_input, body_input], outputs=output_layer)\n",
    "\n",
    "# Compile the model\n",
    "model_lstm.compile(optimizer='adam', loss='mean_squared_error', metrics=['mse'])\n",
    "\n",
    "# Model Summary\n",
    "model_lstm.summary()"
   ]
  },
  {
   "cell_type": "code",
   "execution_count": null,
   "metadata": {
    "colab": {
     "base_uri": "https://localhost:8080/",
     "height": 453
    },
    "executionInfo": {
     "elapsed": 236005,
     "status": "error",
     "timestamp": 1700477680568,
     "user": {
      "displayName": "이승수",
      "userId": "17479038831365834577"
     },
     "user_tz": -540
    },
    "id": "01mcraW_xZ-Z",
    "outputId": "7bfd7c69-eed1-41cb-a9c5-81c305567311"
   },
   "outputs": [
    {
     "name": "stdout",
     "output_type": "stream",
     "text": [
      "Epoch 1/150\n",
      "243/243 [==============================] - 66s 255ms/step - loss: 7717019.5000 - mse: 7717019.5000 - val_loss: 2202.9575 - val_mse: 2202.9575\n",
      "Epoch 2/150\n"
     ]
    },
    {
     "name": "stderr",
     "output_type": "stream",
     "text": [
      "C:\\Users\\LG\\anaconda3\\envs\\daegu\\lib\\site-packages\\keras\\src\\engine\\training.py:3000: UserWarning: You are saving your model as an HDF5 file via `model.save()`. This file format is considered legacy. We recommend using instead the native Keras format, e.g. `model.save('my_model.keras')`.\n",
      "  saving_api.save_model(\n"
     ]
    },
    {
     "name": "stdout",
     "output_type": "stream",
     "text": [
      "243/243 [==============================] - 74s 306ms/step - loss: nan - mse: nan - val_loss: nan - val_mse: nan\n",
      "Epoch 3/150\n",
      "243/243 [==============================] - 90s 369ms/step - loss: nan - mse: nan - val_loss: nan - val_mse: nan\n",
      "Epoch 4/150\n",
      "243/243 [==============================] - 75s 307ms/step - loss: nan - mse: nan - val_loss: nan - val_mse: nan\n",
      "Epoch 5/150\n",
      "243/243 [==============================] - 103s 425ms/step - loss: nan - mse: nan - val_loss: nan - val_mse: nan\n",
      "Epoch 6/150\n",
      "240/243 [============================>.] - ETA: 0s - loss: nan - mse: nan"
     ]
    }
   ],
   "source": [
    "from keras.callbacks import ModelCheckpoint, EarlyStopping\n",
    "\n",
    "# Define callbacks\n",
    "checkpoint = ModelCheckpoint(\"best_lstm_model.h5\", monitor=\"val_mse\", save_best_only=True)\n",
    "early_stopping = EarlyStopping(\n",
    "    monitor=\"val_loss\",\n",
    "    patience=5,\n",
    "    min_delta=0.005,\n",
    "    mode='min',  # The indicator must decrease to be considered the best model\n",
    "    verbose=1,\n",
    "    restore_best_weights=True\n",
    ")\n",
    "\n",
    "# Fit the model with callbacks\n",
    "history = model_lstm.fit(\n",
    "    [title_train_padded, body_train_padded],\n",
    "    trainy,\n",
    "    epochs=150,  # You can adjust the number of epochs\n",
    "    batch_size=100,  # You can adjust the batch size\n",
    "    validation_data=([title_test_padded, body_test_padded], testy),\n",
    "    callbacks=[checkpoint, early_stopping],\n",
    "    verbose=1\n",
    ")\n",
    "\n"
   ]
  },
  {
   "cell_type": "code",
   "execution_count": 20,
   "metadata": {
    "scrolled": true
   },
   "outputs": [
    {
     "data": {
      "image/png": "[encoded data removed]",
      "text/plain": [
       "<Figure size 640x480 with 1 Axes>"
      ]
     },
     "metadata": {},
     "output_type": "display_data"
    },
    {
     "data": {
      "image/png": "[encoded data removed]",
      "text/plain": [
       "<Figure size 640x480 with 1 Axes>"
      ]
     },
     "metadata": {},
     "output_type": "display_data"
    }
   ],
   "source": [
    "# Plot training and validation accuracy\n",
    "plt.plot(range(1, len(history.history['mse']) ), history.history['mse'][1:], label='Training MSE')\n",
    "plt.plot(range(1, len(history.history['val_mse']) ), history.history['val_mse'][1:], label='Validation MSE')\n",
    "plt.title('Training and Validation MSE')\n",
    "plt.xlabel('Epoch')\n",
    "plt.ylabel('Accuracy')\n",
    "plt.legend()\n",
    "plt.savefig('lstm_accuracy_plot.png')  # Save the plot as an image\n",
    "plt.show()\n",
    "\n",
    "# Plot training and validation loss starting from epoch 1\n",
    "plt.plot(range(1, len(history.history['loss']) ), history.history['loss'][1:], label='Training Loss')\n",
    "plt.plot(range(1, len(history.history['val_loss']) ), history.history['val_loss'][1:], label='Validation Loss')\n",
    "plt.title('Training and Validation Loss')\n",
    "plt.xlabel('Epoch')\n",
    "plt.ylabel('Loss')\n",
    "plt.legend()\n",
    "plt.savefig('lstm_loss_plot.png')  # Save the plot as an image\n",
    "plt.show()"
   ]
  },
  {
   "cell_type": "markdown",
   "metadata": {},
   "source": [
    "#### test"
   ]
  },
  {
   "cell_type": "code",
   "execution_count": 26,
   "metadata": {
    "executionInfo": {
     "elapsed": 33,
     "status": "aborted",
     "timestamp": 1700477680572,
     "user": {
      "displayName": "이승수",
      "userId": "17479038831365834577"
     },
     "user_tz": -540
    },
    "id": "2NHYiCtw439P"
   },
   "outputs": [],
   "source": [
    "# 영어경로로 해야됨, 한글이 경로안에 포함되있으면 못 읽음\n",
    "from keras.models import load_model\n",
    "\n",
    "# Load the saved model\n",
    "loaded_model = load_model(\"best_lstm_model.h5\")"
   ]
  },
  {
   "cell_type": "code",
   "execution_count": 30,
   "metadata": {
    "executionInfo": {
     "elapsed": 33,
     "status": "aborted",
     "timestamp": 1700477680573,
     "user": {
      "displayName": "이승수",
      "userId": "17479038831365834577"
     },
     "user_tz": -540
    },
    "id": "TDTmKLor5TWu"
   },
   "outputs": [
    {
     "name": "stdout",
     "output_type": "stream",
     "text": [
      "375/375 [==============================] - 20s 51ms/step\n"
     ]
    }
   ],
   "source": [
    "# Make predictions\n",
    "predictions = loaded_model.predict([title_test_padded, body_test_padded])"
   ]
  },
  {
   "cell_type": "markdown",
   "metadata": {},
   "source": [
    "## 1D CNN(1D Convolutional Neural Networks)"
   ]
  },
  {
   "cell_type": "code",
   "execution_count": 11,
   "metadata": {},
   "outputs": [],
   "source": [
    "from sklearn.model_selection import train_test_split\n",
    "trainX, testX, trainy, testy = train_test_split(ndf[['제목','본문']], ndf['0'], test_size= 0.3, random_state= 42, stratify=ndf['상중하'])"
   ]
  },
  {
   "cell_type": "code",
   "execution_count": 12,
   "metadata": {},
   "outputs": [],
   "source": [
    "# 토큰화, 벡터화\n",
    "from keras import preprocessing\n",
    "from keras.utils import pad_sequences\n",
    "\n",
    "vocab_size = 1000            # 상위 1000개의 고유한 단어로 제한한다는 의미\n",
    "max_sequence_length = 100    # 시퀀스에 허용되는 최대 토큰 수(단어,문자  단위)\n",
    "\n",
    "# num_words에 지정된 만큼만 숫자로 반환 - 부족하면 0으로 채우고, 넘치면 잘림\n",
    "tokenizer = preprocessing.text.Tokenizer(num_words=vocab_size, oov_token=\"<oov>\")    # oov_tok을 사용하여 사전에 없는 단어집합을 만듬\n",
    "tokenizer.fit_on_texts(trainX['제목'])\n",
    "\n",
    "\n",
    "title_train_sequences = tokenizer.texts_to_sequences(trainX['제목'])\n",
    "title_train_padded = pad_sequences(title_train_sequences, maxlen=max_sequence_length)\n",
    "title_test_sequences = tokenizer.texts_to_sequences(testX['제목'])\n",
    "title_test_padded = pad_sequences(title_test_sequences, maxlen=max_sequence_length)\n",
    "\n",
    "\n",
    "tokenizer.fit_on_texts(trainX['본문'])\n",
    "body_train_sequences = tokenizer.texts_to_sequences(trainX['본문'])\n",
    "body_train_padded = pad_sequences(body_train_sequences, maxlen=max_sequence_length)\n",
    "body_test_sequences = tokenizer.texts_to_sequences(testX['본문'])\n",
    "body_test_padded = pad_sequences(body_test_sequences, maxlen=max_sequence_length)"
   ]
  },
  {
   "cell_type": "code",
   "execution_count": 11,
   "metadata": {},
   "outputs": [],
   "source": [
    "from keras.models import Model\n",
    "from keras.layers import Embedding, Conv1D, GlobalMaxPooling1D, Dense, concatenate, Input, Dropout, LayerNormalization\n",
    "from keras.constraints import unit_norm\n",
    "from keras.regularizers import l1_l2\n",
    "from keras.optimizers import Adam\n",
    "from keras.callbacks import ReduceLROnPlateau\n",
    "\n",
    "max_sequence_length = 100\n",
    "# Define input layers\n",
    "title_input = Input(shape=(max_sequence_length,))\n",
    "body_input = Input(shape=(max_sequence_length,))\n",
    "\n",
    "# Shared embedding layer\n",
    "embedding_layer = Embedding(input_dim=vocab_size, output_dim=64, input_length=max_sequence_length)\n",
    "\n",
    "# Apply the embedding layer to both inputs\n",
    "title_embedding = embedding_layer(title_input)\n",
    "body_embedding = embedding_layer(body_input)"
   ]
  },
  {
   "cell_type": "code",
   "execution_count": 12,
   "metadata": {},
   "outputs": [
    {
     "name": "stdout",
     "output_type": "stream",
     "text": [
      "Model: \"model\"\n",
      "__________________________________________________________________________________________________\n",
      " Layer (type)                Output Shape                 Param #   Connected to                  \n",
      "==================================================================================================\n",
      " input_1 (InputLayer)        [(None, 100)]                0         []                            \n",
      "                                                                                                  \n",
      " input_2 (InputLayer)        [(None, 100)]                0         []                            \n",
      "                                                                                                  \n",
      " embedding (Embedding)       (None, 100, 64)              64000     ['input_1[0][0]',             \n",
      "                                                                     'input_2[0][0]']             \n",
      "                                                                                                  \n",
      " conv1d (Conv1D)             (None, 97, 64)               16448     ['embedding[0][0]']           \n",
      "                                                                                                  \n",
      " conv1d_1 (Conv1D)           (None, 97, 64)               16448     ['embedding[1][0]']           \n",
      "                                                                                                  \n",
      " layer_normalization (Layer  (None, 97, 64)               128       ['conv1d[0][0]']              \n",
      " Normalization)                                                                                   \n",
      "                                                                                                  \n",
      " layer_normalization_1 (Lay  (None, 97, 64)               128       ['conv1d_1[0][0]']            \n",
      " erNormalization)                                                                                 \n",
      "                                                                                                  \n",
      " global_max_pooling1d (Glob  (None, 64)                   0         ['layer_normalization[0][0]'] \n",
      " alMaxPooling1D)                                                                                  \n",
      "                                                                                                  \n",
      " global_max_pooling1d_1 (Gl  (None, 64)                   0         ['layer_normalization_1[0][0]'\n",
      " obalMaxPooling1D)                                                  ]                             \n",
      "                                                                                                  \n",
      " concatenate (Concatenate)   (None, 128)                  0         ['global_max_pooling1d[0][0]',\n",
      "                                                                     'global_max_pooling1d_1[0][0]\n",
      "                                                                    ']                            \n",
      "                                                                                                  \n",
      " dropout (Dropout)           (None, 128)                  0         ['concatenate[0][0]']         \n",
      "                                                                                                  \n",
      " dense (Dense)               (None, 64)                   8256      ['dropout[0][0]']             \n",
      "                                                                                                  \n",
      " dropout_1 (Dropout)         (None, 64)                   0         ['dense[0][0]']               \n",
      "                                                                                                  \n",
      " dense_1 (Dense)             (None, 32)                   2080      ['dropout_1[0][0]']           \n",
      "                                                                                                  \n",
      " dense_2 (Dense)             (None, 1)                    33        ['dense_1[0][0]']             \n",
      "                                                                                                  \n",
      "==================================================================================================\n",
      "Total params: 107521 (420.00 KB)\n",
      "Trainable params: 107521 (420.00 KB)\n",
      "Non-trainable params: 0 (0.00 Byte)\n",
      "__________________________________________________________________________________________________\n"
     ]
    }
   ],
   "source": [
    "title_cnn = Conv1D(64, activation='relu', kernel_size = 4)(title_embedding)\n",
    "body_cnn = Conv1D(64, activation='relu', kernel_size = 4)(body_embedding)\n",
    "\n",
    "# Apply Layer Normalization\n",
    "title_cnn = LayerNormalization()(title_cnn)\n",
    "body_cnn = LayerNormalization()(body_cnn)\n",
    "\n",
    "# Apply GlobalMaxPooling1D\n",
    "title_pooled = GlobalMaxPooling1D()(title_cnn)\n",
    "body_pooled = GlobalMaxPooling1D()(body_cnn)\n",
    "\n",
    "# Concatenate the outputs\n",
    "merged = concatenate([title_pooled, body_pooled])\n",
    "\n",
    "# Apply Dropout\n",
    "merged = Dropout(0.4)(merged)  # You can adjust the dropout rate as needed\n",
    "\n",
    "# Additional Dense layer\n",
    "merged = Dense(64, activation='relu')(merged)\n",
    "\n",
    "merged = Dropout(0.2)(merged)  \n",
    "\n",
    "# Apply Kernel Normalization\n",
    "merged = Dense(32, activation='linear', kernel_constraint=unit_norm(), kernel_regularizer=l1_l2(l1=0.01, l2=0.01))(merged)\n",
    "\n",
    "# Output layer\n",
    "output_layer = Dense(1, activation='linear')(merged) # Use linear activation for regression\n",
    "\n",
    "# Create the model\n",
    "model_cnn = Model(inputs=[title_input, body_input], outputs=output_layer)\n",
    "\n",
    "# Compile the model\n",
    "model_cnn.compile(optimizer=Adam(learning_rate=0.001), loss='mean_squared_error', metrics=['mse'])\n",
    "reduce_lr = ReduceLROnPlateau(monitor='val_loss', factor=0.2, patience=3, min_lr=1e-6)\n",
    "\n",
    "# Model Summary\n",
    "model_cnn.summary()"
   ]
  },
  {
   "cell_type": "code",
   "execution_count": 13,
   "metadata": {},
   "outputs": [
    {
     "name": "stdout",
     "output_type": "stream",
     "text": [
      "Epoch 1/150\n",
      "243/243 [==============================] - 19s 69ms/step - loss: 302.4314 - mse: 299.9179 - val_loss: 185.5934 - val_mse: 183.1004\n",
      "Epoch 2/150\n"
     ]
    },
    {
     "name": "stderr",
     "output_type": "stream",
     "text": [
      "C:\\Users\\LG\\anaconda3\\envs\\daegu\\lib\\site-packages\\keras\\src\\engine\\training.py:3000: UserWarning: You are saving your model as an HDF5 file via `model.save()`. This file format is considered legacy. We recommend using instead the native Keras format, e.g. `model.save('my_model.keras')`.\n",
      "  saving_api.save_model(\n"
     ]
    },
    {
     "name": "stdout",
     "output_type": "stream",
     "text": [
      "243/243 [==============================] - 20s 81ms/step - loss: 197.2349 - mse: 194.7615 - val_loss: 170.5132 - val_mse: 168.0573\n",
      "Epoch 3/150\n",
      "243/243 [==============================] - 19s 77ms/step - loss: 183.2180 - mse: 180.7799 - val_loss: 164.8550 - val_mse: 162.4315\n",
      "Epoch 4/150\n",
      "243/243 [==============================] - 15s 64ms/step - loss: 170.9430 - mse: 168.5366 - val_loss: 164.4411 - val_mse: 162.0497\n",
      "Epoch 5/150\n",
      "243/243 [==============================] - 13s 53ms/step - loss: 158.5068 - mse: 156.1279 - val_loss: 166.4391 - val_mse: 164.0714\n",
      "Epoch 6/150\n",
      "243/243 [==============================] - 13s 52ms/step - loss: 151.8781 - mse: 149.5224 - val_loss: 171.6351 - val_mse: 169.2853\n",
      "Epoch 7/150\n",
      "243/243 [==============================] - 13s 55ms/step - loss: 143.5515 - mse: 141.2132 - val_loss: 175.3264 - val_mse: 172.9973\n",
      "Epoch 8/150\n",
      "243/243 [==============================] - 15s 62ms/step - loss: 134.9118 - mse: 132.5888 - val_loss: 177.3195 - val_mse: 175.0060\n",
      "Epoch 9/150\n",
      "242/243 [============================>.] - ETA: 0s - loss: 126.5952 - mse: 124.2899Restoring model weights from the end of the best epoch: 4.\n",
      "243/243 [==============================] - 17s 68ms/step - loss: 126.5891 - mse: 124.2837 - val_loss: 197.7047 - val_mse: 195.4037\n",
      "Epoch 9: early stopping\n"
     ]
    }
   ],
   "source": [
    "from keras.callbacks import ModelCheckpoint, EarlyStopping\n",
    "\n",
    "# Define callbacks\n",
    "checkpoint = ModelCheckpoint(\"best_cnn_model.h5\", monitor=\"val_mse\", save_best_only=True)\n",
    "early_stopping = EarlyStopping(\n",
    "    monitor=\"val_loss\",\n",
    "    patience=5,\n",
    "    min_delta=0.005,\n",
    "    mode='min',  # The indicator must decrease to be considered the best model\n",
    "    verbose=1,\n",
    "    restore_best_weights=True\n",
    ")\n",
    "\n",
    "# Fit the model with callbacks\n",
    "history = model_cnn.fit(\n",
    "    [title_train_padded, body_train_padded],\n",
    "    trainy,\n",
    "    epochs=150,  # You can adjust the number of epochs\n",
    "    batch_size=100,  # You can adjust the batch size\n",
    "    validation_data=([title_test_padded, body_test_padded], testy),\n",
    "    callbacks=[checkpoint, early_stopping],\n",
    "    verbose=1\n",
    ")\n"
   ]
  },
  {
   "cell_type": "code",
   "execution_count": 15,
   "metadata": {},
   "outputs": [
    {
     "data": {
      "image/png": "[encoded data removed]",
      "text/plain": [
       "<Figure size 640x480 with 1 Axes>"
      ]
     },
     "metadata": {},
     "output_type": "display_data"
    },
    {
     "data": {
      "image/png": "[encoded data removed]",
      "text/plain": [
       "<Figure size 640x480 with 1 Axes>"
      ]
     },
     "metadata": {},
     "output_type": "display_data"
    }
   ],
   "source": [
    "# Plot training and validation accuracy\n",
    "plt.plot(range(1, len(history.history['mse']) ), history.history['mse'][1:], label='Training MSE')\n",
    "plt.plot(range(1, len(history.history['val_mse']) ), history.history['val_mse'][1:], label='Validation MSE')\n",
    "plt.title('Training and Validation MSE')\n",
    "plt.xlabel('Epoch')\n",
    "plt.ylabel('Accuracy')\n",
    "plt.legend()\n",
    "plt.savefig('cnn_accuracy_plot.png')  # Save the plot as an image\n",
    "plt.show()\n",
    "\n",
    "# Plot training and validation loss starting from epoch 1\n",
    "plt.plot(range(1, len(history.history['loss']) ), history.history['loss'][1:], label='Training Loss')\n",
    "plt.plot(range(1, len(history.history['val_loss']) ), history.history['val_loss'][1:], label='Validation Loss')\n",
    "plt.title('Training and Validation Loss')\n",
    "plt.xlabel('Epoch')\n",
    "plt.ylabel('Loss')\n",
    "plt.legend()\n",
    "plt.savefig('cnn_loss_plot.png')  # Save the plot as an image\n",
    "plt.show()"
   ]
  },
  {
   "cell_type": "markdown",
   "metadata": {},
   "source": [
    "#### test"
   ]
  },
  {
   "cell_type": "code",
   "execution_count": 2,
   "metadata": {},
   "outputs": [],
   "source": [
    "# 영어경로로 해야됨, 한글이 경로안에 포함되있으면 못 읽음\n",
    "from keras.models import load_model\n",
    "\n",
    "# Load the saved model\n",
    "loaded_model = load_model(\"best_cnn_model.h5\")"
   ]
  },
  {
   "cell_type": "code",
   "execution_count": 13,
   "metadata": {},
   "outputs": [
    {
     "name": "stdout",
     "output_type": "stream",
     "text": [
      "325/325 [==============================] - 2s 4ms/step\n"
     ]
    },
    {
     "data": {
      "text/plain": [
       "array([[43.65829 ],\n",
       "       [51.789467],\n",
       "       [29.805832],\n",
       "       ...,\n",
       "       [36.19988 ],\n",
       "       [46.9752  ],\n",
       "       [35.075512]], dtype=float32)"
      ]
     },
     "execution_count": 13,
     "metadata": {},
     "output_type": "execute_result"
    }
   ],
   "source": [
    "# Make predictions\n",
    "predictions = loaded_model.predict([title_test_padded, body_test_padded])\n",
    "predictions"
   ]
  },
  {
   "cell_type": "code",
   "execution_count": 16,
   "metadata": {},
   "outputs": [
    {
     "data": {
      "text/plain": [
       "array([[58.65829 ],\n",
       "       [66.78947 ],\n",
       "       [44.805832],\n",
       "       ...,\n",
       "       [51.19988 ],\n",
       "       [61.9752  ],\n",
       "       [50.075512]], dtype=float32)"
      ]
     },
     "execution_count": 16,
     "metadata": {},
     "output_type": "execute_result"
    }
   ],
   "source": [
    "predictions = predictions + 15\n",
    "predictions = np.clip(predictions, a_min=0,a_max=100)\n",
    "predictions"
   ]
  },
  {
   "cell_type": "code",
   "execution_count": 20,
   "metadata": {},
   "outputs": [
    {
     "name": "stdout",
     "output_type": "stream",
     "text": [
      "Mean Squared Error (MSE): 164.4410858154297\n",
      "325/325 [==============================] - 2s 5ms/step\n",
      "Mean Absolute Error (MAE): 9.078356316500221\n",
      "R-squared (R2): 0.3022245949731637\n"
     ]
    }
   ],
   "source": [
    "evaluation = model_cnn.evaluate([title_test_padded, body_test_padded], testy, verbose=0)\n",
    "\n",
    "# Extract the metrics\n",
    "mse, _ = evaluation  # Assuming the first metric is MSE\n",
    "\n",
    "print(f'Mean Squared Error (MSE): {mse}')\n",
    "\n",
    "# You can also calculate and print other metrics like MAE and R-squared\n",
    "from sklearn.metrics import mean_absolute_error, r2_score\n",
    "\n",
    "predictions = model_cnn.predict([title_test_padded, body_test_padded])\n",
    "\n",
    "mae = mean_absolute_error(testy, predictions)\n",
    "r2 = r2_score(testy, predictions)\n",
    "\n",
    "print(f'Mean Absolute Error (MAE): {mae}')\n",
    "print(f'R-squared (R2): {r2}')"
   ]
  }
 ],
 "metadata": {
  "accelerator": "GPU",
  "colab": {
   "authorship_tag": "ABX9TyMmFtDl50zK2iNl6GX8dwg2",
   "gpuType": "T4",
   "mount_file_id": "1uwJ5BQj5Cv0gfDKFXVgGSzgtyun4b_w1",
   "provenance": []
  },
  "kernelspec": {
   "display_name": "Python 3 (ipykernel)",
   "language": "python",
   "name": "python3"
  },
  "language_info": {
   "codemirror_mode": {
    "name": "ipython",
    "version": 3
   },
   "file_extension": ".py",
   "mimetype": "text/x-python",
   "name": "python",
   "nbconvert_exporter": "python",
   "pygments_lexer": "ipython3",
   "version": "3.8.18"
  }
 },
 "nbformat": 4,
 "nbformat_minor": 4
}
