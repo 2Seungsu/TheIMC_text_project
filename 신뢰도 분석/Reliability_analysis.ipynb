{
 "cells": [
  {
   "cell_type": "code",
   "execution_count": 57,
   "id": "1d425125-5533-4e4a-bb46-004577f092fa",
   "metadata": {},
   "outputs": [],
   "source": [
    "import pandas as pd\n",
    "import numpy as np"
   ]
  },
  {
   "cell_type": "markdown",
   "id": "53d70bfd-33bc-4f5b-bd6b-0d1adecf2d13",
   "metadata": {},
   "source": [
    "참고 논문 : https://www.kpf.or.kr/front/research/selfDetail.do?seq=591492 75페이지~ "
   ]
  },
  {
   "cell_type": "markdown",
   "id": "4d789fb0-45b4-44d9-b024-acff090d80d2",
   "metadata": {},
   "source": [
    "## 데이터 불러오기"
   ]
  },
  {
   "cell_type": "code",
   "execution_count": 58,
   "id": "55bcd288-2d9f-4e68-a622-fc01027726aa",
   "metadata": {
    "scrolled": true
   },
   "outputs": [
    {
     "data": {
      "text/html": [
       "<div>\n",
       "<style scoped>\n",
       "    .dataframe tbody tr th:only-of-type {\n",
       "        vertical-align: middle;\n",
       "    }\n",
       "\n",
       "    .dataframe tbody tr th {\n",
       "        vertical-align: top;\n",
       "    }\n",
       "\n",
       "    .dataframe thead th {\n",
       "        text-align: right;\n",
       "    }\n",
       "</style>\n",
       "<table border=\"1\" class=\"dataframe\">\n",
       "  <thead>\n",
       "    <tr style=\"text-align: right;\">\n",
       "      <th></th>\n",
       "      <th>Unnamed: 0</th>\n",
       "      <th>뉴스 식별자</th>\n",
       "      <th>일자</th>\n",
       "      <th>언론사</th>\n",
       "      <th>기고자</th>\n",
       "      <th>제목</th>\n",
       "      <th>통합 분류1</th>\n",
       "      <th>통합 분류2</th>\n",
       "      <th>통합 분류3</th>\n",
       "      <th>사건/사고 분류1</th>\n",
       "      <th>사건/사고 분류2</th>\n",
       "      <th>사건/사고 분류3</th>\n",
       "      <th>인물</th>\n",
       "      <th>위치</th>\n",
       "      <th>기관</th>\n",
       "      <th>키워드</th>\n",
       "      <th>특성추출(가중치순 상위 50개)</th>\n",
       "      <th>본문</th>\n",
       "      <th>URL</th>\n",
       "      <th>분석제외 여부</th>\n",
       "    </tr>\n",
       "  </thead>\n",
       "  <tbody>\n",
       "    <tr>\n",
       "      <th>0</th>\n",
       "      <td>0</td>\n",
       "      <td>1.100611e+06</td>\n",
       "      <td>20230115</td>\n",
       "      <td>서울신문</td>\n",
       "      <td>이주원,김지예</td>\n",
       "      <td>[단독] 조희연 “초등 1~2학년 학폭 대상 제외 학폭법 개정 나설 것”</td>\n",
       "      <td>사회&gt;교육_시험</td>\n",
       "      <td>NaN</td>\n",
       "      <td>NaN</td>\n",
       "      <td>범죄&gt;범죄일반&gt;폭행</td>\n",
       "      <td>NaN</td>\n",
       "      <td>NaN</td>\n",
       "      <td>경미</td>\n",
       "      <td>함양,서울,대구,적도,서울시</td>\n",
       "      <td>서울시교육청,서울시교육감,전국시도교육감협의회,시도교육감협의회,강남서초교육지원청,경기...</td>\n",
       "      <td>조희연,초등,학년,학폭,대상,제외,학폭법,개정,교육,회복,학폭위,목적,화해,부작용,...</td>\n",
       "      <td>학폭,학폭위,학부모,학폭법,학생부,교육감,맞학폭,서울신문,학교폭력,학생들</td>\n",
       "      <td>교육적 회복 사라진 학폭위…궁극적 목적은 화해생기부 기재 부작용 커…가벼운 사안은 ...</td>\n",
       "      <td>http://www.seoul.co.kr/news/newsView.php?id=20...</td>\n",
       "      <td>NaN</td>\n",
       "    </tr>\n",
       "    <tr>\n",
       "      <th>1</th>\n",
       "      <td>1</td>\n",
       "      <td>1.100611e+06</td>\n",
       "      <td>20230115</td>\n",
       "      <td>서울신문</td>\n",
       "      <td>홍지민</td>\n",
       "      <td>하윤기, 덩크 9방에 생애 첫 올스타전 MVP</td>\n",
       "      <td>스포츠&gt;축구</td>\n",
       "      <td>스포츠&gt;농구_배구</td>\n",
       "      <td>스포츠&gt;올림픽_아시안게임</td>\n",
       "      <td>사고&gt;스포츠사고</td>\n",
       "      <td>NaN</td>\n",
       "      <td>NaN</td>\n",
       "      <td>NaN</td>\n",
       "      <td>울산,전주,서울,준결승전,경기,영광,창원,아반도,필리핀,아시아,안양,대구,문성곤</td>\n",
       "      <td>한국가스공사,KGC,SK,kt,KCC,랜드리,LG,렌즈 아반도,아셈,삼성,현대모비스...</td>\n",
       "      <td>하윤기,덩크,생애,올스타전,MVP,이대성,제압,허웅,전성현,3점,분전,허웅,생애,3...</td>\n",
       "      <td>허웅,덩크,올스타전,3점,하윤기,이대성,kt,전성현,외국인,팬투표,덩크슛,9개,서울...</td>\n",
       "      <td>팀 이대성, 122-117로 팀 허웅 제압…전성현 3점슛 9개 분전허웅, 생애 첫 ...</td>\n",
       "      <td>http://www.seoul.co.kr/news/newsView.php?id=20...</td>\n",
       "      <td>NaN</td>\n",
       "    </tr>\n",
       "    <tr>\n",
       "      <th>2</th>\n",
       "      <td>2</td>\n",
       "      <td>1.100611e+06</td>\n",
       "      <td>20230115</td>\n",
       "      <td>서울신문</td>\n",
       "      <td>이민영</td>\n",
       "      <td>강원택 서울대 교수 인터뷰 “중대선거구제 반대했지만 입장 바뀌었다...양당제 폐해 ...</td>\n",
       "      <td>정치&gt;국회_정당</td>\n",
       "      <td>정치&gt;선거</td>\n",
       "      <td>정치&gt;행정_자치</td>\n",
       "      <td>NaN</td>\n",
       "      <td>NaN</td>\n",
       "      <td>NaN</td>\n",
       "      <td>강원택,강,윤석열</td>\n",
       "      <td>독일,미국,대구,대만,호남,한국,영남</td>\n",
       "      <td>국민의당,민주당,일본,유럽,정치개혁특별위원회,더불어민주당,서울대,국회,한국,수도권,...</td>\n",
       "      <td>강원택,서울대,교수,인터뷰,중대,선거구,반대,폐해,입장,양당,다당제,중대선거구제,비...</td>\n",
       "      <td>선거구,중대선거구제,한국,선거제도,다당제,비례대표제,비례대표,독일식,미국,지역구,유...</td>\n",
       "      <td>“다당제 위해서라면 중대선거구제라도 도입해야”“독일식 연동형 비례대표제 가장 바람직...</td>\n",
       "      <td>http://www.seoul.co.kr/news/newsView.php?id=20...</td>\n",
       "      <td>NaN</td>\n",
       "    </tr>\n",
       "    <tr>\n",
       "      <th>3</th>\n",
       "      <td>3</td>\n",
       "      <td>1.100611e+06</td>\n",
       "      <td>20230115</td>\n",
       "      <td>서울신문</td>\n",
       "      <td>신진호</td>\n",
       "      <td>장제원, 나경원 향해 “제2의 유승민 되지 말기를”</td>\n",
       "      <td>정치&gt;국회_정당</td>\n",
       "      <td>정치&gt;선거</td>\n",
       "      <td>정치&gt;청와대</td>\n",
       "      <td>NaN</td>\n",
       "      <td>NaN</td>\n",
       "      <td>NaN</td>\n",
       "      <td>유승민,김기현,나경원,장제원,전,유일한,장,조원진,윤석열,유 전,마키아벨리</td>\n",
       "      <td>을,동구,파동,대구</td>\n",
       "      <td>친박,정부,친박계,파동,대한민국,진박감별사,새누리당,페이스북,국민의힘</td>\n",
       "      <td>장제원,나경원,제2,유승민,제2,진박감별사,나경원,비판,응수,나경원,국민,의원,출마...</td>\n",
       "      <td>감별사,새누리당,유승민,박근혜,나경원,마키아벨리,친박,진박,진박감별사,페이스북,장제...</td>\n",
       "      <td>“제2의 진박감별사가 당 쥐락펴락” 나경원 비판에 응수 ▲ 국민의힘 장제원 의원, ...</td>\n",
       "      <td>http://www.seoul.co.kr/news/newsView.php?id=20...</td>\n",
       "      <td>NaN</td>\n",
       "    </tr>\n",
       "    <tr>\n",
       "      <th>4</th>\n",
       "      <td>4</td>\n",
       "      <td>1.100611e+06</td>\n",
       "      <td>20230115</td>\n",
       "      <td>서울신문</td>\n",
       "      <td>김상현</td>\n",
       "      <td>부산-대구 고속도로 역주행 1명 사망 음주운전 추정</td>\n",
       "      <td>지역&gt;대구</td>\n",
       "      <td>지역&gt;강원</td>\n",
       "      <td>지역&gt;경남</td>\n",
       "      <td>NaN</td>\n",
       "      <td>NaN</td>\n",
       "      <td>NaN</td>\n",
       "      <td>NaN</td>\n",
       "      <td>남천면,경북,대구부,경산시,대구,부산-대구</td>\n",
       "      <td>경찰,K3</td>\n",
       "      <td>부산,대구,고속도,사망,역주행,음주,운전,추정,15일,지점,경북,경산시,남천면,대구...</td>\n",
       "      <td>운전자,역주행,마티즈,승용차,대구,81km,동승자,경북,대구부산고속도로,관계자,경산...</td>\n",
       "      <td>▲ 마티즈와 K3가 정면 충돌한 사고 현장에서 소방대원과 경찰이 사고를 수습하고 있...</td>\n",
       "      <td>http://www.seoul.co.kr/news/newsView.php?id=20...</td>\n",
       "      <td>NaN</td>\n",
       "    </tr>\n",
       "    <tr>\n",
       "      <th>...</th>\n",
       "      <td>...</td>\n",
       "      <td>...</td>\n",
       "      <td>...</td>\n",
       "      <td>...</td>\n",
       "      <td>...</td>\n",
       "      <td>...</td>\n",
       "      <td>...</td>\n",
       "      <td>...</td>\n",
       "      <td>...</td>\n",
       "      <td>...</td>\n",
       "      <td>...</td>\n",
       "      <td>...</td>\n",
       "      <td>...</td>\n",
       "      <td>...</td>\n",
       "      <td>...</td>\n",
       "      <td>...</td>\n",
       "      <td>...</td>\n",
       "      <td>...</td>\n",
       "      <td>...</td>\n",
       "      <td>...</td>\n",
       "    </tr>\n",
       "    <tr>\n",
       "      <th>82743</th>\n",
       "      <td>82743</td>\n",
       "      <td>2.100311e+06</td>\n",
       "      <td>20230820</td>\n",
       "      <td>서울경제</td>\n",
       "      <td>안유진 인턴기자</td>\n",
       "      <td>5번째 일본발 테러 협박 예고시간 모두 '3시 34분' 의미가 뭐길래?</td>\n",
       "      <td>국제&gt;일본</td>\n",
       "      <td>국제&gt;중남미</td>\n",
       "      <td>국제&gt;아시아</td>\n",
       "      <td>범죄&gt;범죄일반&gt;사기</td>\n",
       "      <td>사회&gt;사회문제&gt;미성년범죄</td>\n",
       "      <td>NaN</td>\n",
       "      <td>다카히로,가라사</td>\n",
       "      <td>안산,안양,일본,대구,부천,인천,성남</td>\n",
       "      <td>대사관,일본프로야구,다이이치,경찰,서울시청,더불어민주당,트위터,대법원,가라사,도쿄변...</td>\n",
       "      <td>5번,협박,일본발,테러,예고시간,의미,일본발,테러,예고,장소,예고,고정,타인,조롱,...</td>\n",
       "      <td>일본,변호사,2ch,한신,일본발,악플,온라인,다이이치,최종전,이재명</td>\n",
       "      <td>지난 16일 인천시청에 폭발물을 설치했다는 신고가 접수돼 경찰특공대와 탐지견이 폭발...</td>\n",
       "      <td>http://www.sedaily.com/NewsView/29THBXYGJF</td>\n",
       "      <td>NaN</td>\n",
       "    </tr>\n",
       "    <tr>\n",
       "      <th>82744</th>\n",
       "      <td>82744</td>\n",
       "      <td>2.100311e+06</td>\n",
       "      <td>20230820</td>\n",
       "      <td>서울경제</td>\n",
       "      <td>이승령 기자</td>\n",
       "      <td>이러니 치안 불안할 수 밖에 현장 누빌 순경 1.4만명 부족</td>\n",
       "      <td>지역&gt;광주</td>\n",
       "      <td>지역&gt;부산</td>\n",
       "      <td>지역&gt;울산</td>\n",
       "      <td>NaN</td>\n",
       "      <td>NaN</td>\n",
       "      <td>NaN</td>\n",
       "      <td>순경,정우택</td>\n",
       "      <td>경기북,경기남부,서울,부산,대구,인천,경남,지구대</td>\n",
       "      <td>서울경찰청,행정안전위원회,국회,경찰청,경창청,국민의힘,비간부</td>\n",
       "      <td>치안,불안,현장,1.4,누빌,순경,1.4,부족,경감,경위,경정,간부직,정원,사건,시...</td>\n",
       "      <td>경찰관,경찰청,퇴직자,서울,시도경찰청,치안현장,경찰관들,정우택,3만,6급,국민의힘,...</td>\n",
       "      <td>윤희근 경찰청장이 18일 충북 충주시 중앙경찰학교에서 열린 신임경찰 제312기 졸업...</td>\n",
       "      <td>http://www.sedaily.com/NewsView/29THCKN45F</td>\n",
       "      <td>NaN</td>\n",
       "    </tr>\n",
       "    <tr>\n",
       "      <th>82745</th>\n",
       "      <td>82745</td>\n",
       "      <td>2.100311e+06</td>\n",
       "      <td>20230820</td>\n",
       "      <td>서울경제</td>\n",
       "      <td>김태원 기자</td>\n",
       "      <td>“당당하게 벗은 내가 문제냐?” 비키니 라이딩女 이번에는 부산 대구에 떴다</td>\n",
       "      <td>사회&gt;여성</td>\n",
       "      <td>NaN</td>\n",
       "      <td>NaN</td>\n",
       "      <td>범죄&gt;기업범죄&gt;거래제한</td>\n",
       "      <td>범죄&gt;범죄일반&gt;방화</td>\n",
       "      <td>NaN</td>\n",
       "      <td>정하늘,채아인</td>\n",
       "      <td>서울경제,서울,강남,부산,홍대,테헤란로,대구,해운대,부산역 인근,잠실,도심,동성로</td>\n",
       "      <td>트위치,경찰,MIB,잠실</td>\n",
       "      <td>라이딩,부산,대구,서울,강남,홍대,잠실,도심,수영복,오토바이,킥보드,비키니,라이딩,...</td>\n",
       "      <td>해운대,부산,해방감,대구,서울,정씨,잠실,홍대,수영복,채아인,스트리머,서울경제,현수...</td>\n",
       "      <td>부산 해운대 앞에서 현수막을 들고 있는 여성들. 사진 제공=독자서울 강남·홍대·잠실...</td>\n",
       "      <td>http://www.sedaily.com/NewsView/29TH914V50</td>\n",
       "      <td>NaN</td>\n",
       "    </tr>\n",
       "    <tr>\n",
       "      <th>82746</th>\n",
       "      <td>82746</td>\n",
       "      <td>2.100311e+06</td>\n",
       "      <td>20230819</td>\n",
       "      <td>서울경제</td>\n",
       "      <td>최성욱 기자</td>\n",
       "      <td>[오늘의 날씨]낮 최고 33도 무더위 일부 지역 소나기</td>\n",
       "      <td>사회&gt;날씨</td>\n",
       "      <td>지역&gt;제주</td>\n",
       "      <td>지역&gt;충남</td>\n",
       "      <td>사고&gt;스포츠사고</td>\n",
       "      <td>NaN</td>\n",
       "      <td>NaN</td>\n",
       "      <td>NaN</td>\n",
       "      <td>전라,서해,충북,경기,충남,제주도,남해안,동해,강원,전라권,경북,경상,대전,세종,대...</td>\n",
       "      <td>동부,제주도,중부지방</td>\n",
       "      <td>무더위,최고,지역,소나기,경기,동부,강원,토요일,19일,지역,기온,33도,전국,무더...</td>\n",
       "      <td>33도,전라,대구,동해,제주도,강원,서해,남해,앞바다,안전사고,시설물,충청,강수량,...</td>\n",
       "      <td>무더운 날씨를 기록한 지난 14일 서울 경복궁을 찾은 관광객들이 양산으로 햇볕을 피...</td>\n",
       "      <td>http://www.sedaily.com/NewsView/29TGTPBCOY</td>\n",
       "      <td>NaN</td>\n",
       "    </tr>\n",
       "    <tr>\n",
       "      <th>82747</th>\n",
       "      <td>82747</td>\n",
       "      <td>2.100311e+06</td>\n",
       "      <td>20230818</td>\n",
       "      <td>서울경제</td>\n",
       "      <td>김은미 인턴기자</td>\n",
       "      <td>'킥라니' 여학생들 한밤 교차로 불쑥 \"손발 떨려서 일 접었다\"</td>\n",
       "      <td>사회&gt;교육_시험</td>\n",
       "      <td>문화&gt;방송_연예</td>\n",
       "      <td>사회&gt;미디어</td>\n",
       "      <td>NaN</td>\n",
       "      <td>NaN</td>\n",
       "      <td>NaN</td>\n",
       "      <td>한문철,A 씨</td>\n",
       "      <td>대구</td>\n",
       "      <td>유튜브,달서구</td>\n",
       "      <td>교차,여학생,전동,킥보드,교차로,무단횡단,10대,모습,택시,기사,사연,공개,킥보드,...</td>\n",
       "      <td>킥보드,여학생,한문철,10대,변호사,50대,교차로,운전자,유튜브,기둥,기사님,보행자...</td>\n",
       "      <td>사진=유튜브채널 ‘한문철 TV’ 캡처전동 킥보드를 타고 교차로를 무단횡단한 10대들...</td>\n",
       "      <td>http://www.sedaily.com/NewsView/29TGFLGO0L</td>\n",
       "      <td>NaN</td>\n",
       "    </tr>\n",
       "  </tbody>\n",
       "</table>\n",
       "<p>82748 rows × 20 columns</p>\n",
       "</div>"
      ],
      "text/plain": [
       "       Unnamed: 0        뉴스 식별자        일자   언론사       기고자  \\\n",
       "0               0  1.100611e+06  20230115  서울신문   이주원,김지예   \n",
       "1               1  1.100611e+06  20230115  서울신문       홍지민   \n",
       "2               2  1.100611e+06  20230115  서울신문       이민영   \n",
       "3               3  1.100611e+06  20230115  서울신문       신진호   \n",
       "4               4  1.100611e+06  20230115  서울신문       김상현   \n",
       "...           ...           ...       ...   ...       ...   \n",
       "82743       82743  2.100311e+06  20230820  서울경제  안유진 인턴기자   \n",
       "82744       82744  2.100311e+06  20230820  서울경제    이승령 기자   \n",
       "82745       82745  2.100311e+06  20230820  서울경제    김태원 기자   \n",
       "82746       82746  2.100311e+06  20230819  서울경제    최성욱 기자   \n",
       "82747       82747  2.100311e+06  20230818  서울경제  김은미 인턴기자   \n",
       "\n",
       "                                                      제목    통합 분류1  \\\n",
       "0               [단독] 조희연 “초등 1~2학년 학폭 대상 제외 학폭법 개정 나설 것”  사회>교육_시험   \n",
       "1                              하윤기, 덩크 9방에 생애 첫 올스타전 MVP    스포츠>축구   \n",
       "2      강원택 서울대 교수 인터뷰 “중대선거구제 반대했지만 입장 바뀌었다...양당제 폐해 ...  정치>국회_정당   \n",
       "3                           장제원, 나경원 향해 “제2의 유승민 되지 말기를”  정치>국회_정당   \n",
       "4                           부산-대구 고속도로 역주행 1명 사망 음주운전 추정     지역>대구   \n",
       "...                                                  ...       ...   \n",
       "82743            5번째 일본발 테러 협박 예고시간 모두 '3시 34분' 의미가 뭐길래?     국제>일본   \n",
       "82744                  이러니 치안 불안할 수 밖에 현장 누빌 순경 1.4만명 부족     지역>광주   \n",
       "82745          “당당하게 벗은 내가 문제냐?” 비키니 라이딩女 이번에는 부산 대구에 떴다     사회>여성   \n",
       "82746                     [오늘의 날씨]낮 최고 33도 무더위 일부 지역 소나기     사회>날씨   \n",
       "82747                '킥라니' 여학생들 한밤 교차로 불쑥 \"손발 떨려서 일 접었다\"  사회>교육_시험   \n",
       "\n",
       "           통합 분류2          통합 분류3     사건/사고 분류1       사건/사고 분류2 사건/사고 분류3  \\\n",
       "0             NaN             NaN    범죄>범죄일반>폭행             NaN       NaN   \n",
       "1       스포츠>농구_배구   스포츠>올림픽_아시안게임      사고>스포츠사고             NaN       NaN   \n",
       "2           정치>선거        정치>행정_자치           NaN             NaN       NaN   \n",
       "3           정치>선거          정치>청와대           NaN             NaN       NaN   \n",
       "4           지역>강원           지역>경남           NaN             NaN       NaN   \n",
       "...           ...             ...           ...             ...       ...   \n",
       "82743      국제>중남미          국제>아시아    범죄>범죄일반>사기   사회>사회문제>미성년범죄       NaN   \n",
       "82744       지역>부산           지역>울산           NaN             NaN       NaN   \n",
       "82745         NaN             NaN  범죄>기업범죄>거래제한      범죄>범죄일반>방화       NaN   \n",
       "82746       지역>제주           지역>충남      사고>스포츠사고             NaN       NaN   \n",
       "82747    문화>방송_연예          사회>미디어           NaN             NaN       NaN   \n",
       "\n",
       "                                              인물  \\\n",
       "0                                             경미   \n",
       "1                                            NaN   \n",
       "2                                      강원택,강,윤석열   \n",
       "3      유승민,김기현,나경원,장제원,전,유일한,장,조원진,윤석열,유 전,마키아벨리   \n",
       "4                                            NaN   \n",
       "...                                          ...   \n",
       "82743                                   다카히로,가라사   \n",
       "82744                                     순경,정우택   \n",
       "82745                                    정하늘,채아인   \n",
       "82746                                        NaN   \n",
       "82747                                    한문철,A 씨   \n",
       "\n",
       "                                                      위치  \\\n",
       "0                                        함양,서울,대구,적도,서울시   \n",
       "1           울산,전주,서울,준결승전,경기,영광,창원,아반도,필리핀,아시아,안양,대구,문성곤   \n",
       "2                                   독일,미국,대구,대만,호남,한국,영남   \n",
       "3                                             을,동구,파동,대구   \n",
       "4                                남천면,경북,대구부,경산시,대구,부산-대구   \n",
       "...                                                  ...   \n",
       "82743                               안산,안양,일본,대구,부천,인천,성남   \n",
       "82744                        경기북,경기남부,서울,부산,대구,인천,경남,지구대   \n",
       "82745      서울경제,서울,강남,부산,홍대,테헤란로,대구,해운대,부산역 인근,잠실,도심,동성로   \n",
       "82746  전라,서해,충북,경기,충남,제주도,남해안,동해,강원,전라권,경북,경상,대전,세종,대...   \n",
       "82747                                                 대구   \n",
       "\n",
       "                                                      기관  \\\n",
       "0      서울시교육청,서울시교육감,전국시도교육감협의회,시도교육감협의회,강남서초교육지원청,경기...   \n",
       "1      한국가스공사,KGC,SK,kt,KCC,랜드리,LG,렌즈 아반도,아셈,삼성,현대모비스...   \n",
       "2      국민의당,민주당,일본,유럽,정치개혁특별위원회,더불어민주당,서울대,국회,한국,수도권,...   \n",
       "3                 친박,정부,친박계,파동,대한민국,진박감별사,새누리당,페이스북,국민의힘   \n",
       "4                                                  경찰,K3   \n",
       "...                                                  ...   \n",
       "82743  대사관,일본프로야구,다이이치,경찰,서울시청,더불어민주당,트위터,대법원,가라사,도쿄변...   \n",
       "82744                  서울경찰청,행정안전위원회,국회,경찰청,경창청,국민의힘,비간부   \n",
       "82745                                      트위치,경찰,MIB,잠실   \n",
       "82746                                        동부,제주도,중부지방   \n",
       "82747                                            유튜브,달서구   \n",
       "\n",
       "                                                     키워드  \\\n",
       "0      조희연,초등,학년,학폭,대상,제외,학폭법,개정,교육,회복,학폭위,목적,화해,부작용,...   \n",
       "1      하윤기,덩크,생애,올스타전,MVP,이대성,제압,허웅,전성현,3점,분전,허웅,생애,3...   \n",
       "2      강원택,서울대,교수,인터뷰,중대,선거구,반대,폐해,입장,양당,다당제,중대선거구제,비...   \n",
       "3      장제원,나경원,제2,유승민,제2,진박감별사,나경원,비판,응수,나경원,국민,의원,출마...   \n",
       "4      부산,대구,고속도,사망,역주행,음주,운전,추정,15일,지점,경북,경산시,남천면,대구...   \n",
       "...                                                  ...   \n",
       "82743  5번,협박,일본발,테러,예고시간,의미,일본발,테러,예고,장소,예고,고정,타인,조롱,...   \n",
       "82744  치안,불안,현장,1.4,누빌,순경,1.4,부족,경감,경위,경정,간부직,정원,사건,시...   \n",
       "82745  라이딩,부산,대구,서울,강남,홍대,잠실,도심,수영복,오토바이,킥보드,비키니,라이딩,...   \n",
       "82746  무더위,최고,지역,소나기,경기,동부,강원,토요일,19일,지역,기온,33도,전국,무더...   \n",
       "82747  교차,여학생,전동,킥보드,교차로,무단횡단,10대,모습,택시,기사,사연,공개,킥보드,...   \n",
       "\n",
       "                                       특성추출(가중치순 상위 50개)  \\\n",
       "0               학폭,학폭위,학부모,학폭법,학생부,교육감,맞학폭,서울신문,학교폭력,학생들   \n",
       "1      허웅,덩크,올스타전,3점,하윤기,이대성,kt,전성현,외국인,팬투표,덩크슛,9개,서울...   \n",
       "2      선거구,중대선거구제,한국,선거제도,다당제,비례대표제,비례대표,독일식,미국,지역구,유...   \n",
       "3      감별사,새누리당,유승민,박근혜,나경원,마키아벨리,친박,진박,진박감별사,페이스북,장제...   \n",
       "4      운전자,역주행,마티즈,승용차,대구,81km,동승자,경북,대구부산고속도로,관계자,경산...   \n",
       "...                                                  ...   \n",
       "82743              일본,변호사,2ch,한신,일본발,악플,온라인,다이이치,최종전,이재명   \n",
       "82744  경찰관,경찰청,퇴직자,서울,시도경찰청,치안현장,경찰관들,정우택,3만,6급,국민의힘,...   \n",
       "82745  해운대,부산,해방감,대구,서울,정씨,잠실,홍대,수영복,채아인,스트리머,서울경제,현수...   \n",
       "82746  33도,전라,대구,동해,제주도,강원,서해,남해,앞바다,안전사고,시설물,충청,강수량,...   \n",
       "82747  킥보드,여학생,한문철,10대,변호사,50대,교차로,운전자,유튜브,기둥,기사님,보행자...   \n",
       "\n",
       "                                                      본문  \\\n",
       "0      교육적 회복 사라진 학폭위…궁극적 목적은 화해생기부 기재 부작용 커…가벼운 사안은 ...   \n",
       "1      팀 이대성, 122-117로 팀 허웅 제압…전성현 3점슛 9개 분전허웅, 생애 첫 ...   \n",
       "2      “다당제 위해서라면 중대선거구제라도 도입해야”“독일식 연동형 비례대표제 가장 바람직...   \n",
       "3      “제2의 진박감별사가 당 쥐락펴락” 나경원 비판에 응수 ▲ 국민의힘 장제원 의원, ...   \n",
       "4      ▲ 마티즈와 K3가 정면 충돌한 사고 현장에서 소방대원과 경찰이 사고를 수습하고 있...   \n",
       "...                                                  ...   \n",
       "82743  지난 16일 인천시청에 폭발물을 설치했다는 신고가 접수돼 경찰특공대와 탐지견이 폭발...   \n",
       "82744  윤희근 경찰청장이 18일 충북 충주시 중앙경찰학교에서 열린 신임경찰 제312기 졸업...   \n",
       "82745  부산 해운대 앞에서 현수막을 들고 있는 여성들. 사진 제공=독자서울 강남·홍대·잠실...   \n",
       "82746  무더운 날씨를 기록한 지난 14일 서울 경복궁을 찾은 관광객들이 양산으로 햇볕을 피...   \n",
       "82747  사진=유튜브채널 ‘한문철 TV’ 캡처전동 킥보드를 타고 교차로를 무단횡단한 10대들...   \n",
       "\n",
       "                                                     URL 분석제외 여부  \n",
       "0      http://www.seoul.co.kr/news/newsView.php?id=20...     NaN  \n",
       "1      http://www.seoul.co.kr/news/newsView.php?id=20...     NaN  \n",
       "2      http://www.seoul.co.kr/news/newsView.php?id=20...     NaN  \n",
       "3      http://www.seoul.co.kr/news/newsView.php?id=20...     NaN  \n",
       "4      http://www.seoul.co.kr/news/newsView.php?id=20...     NaN  \n",
       "...                                                  ...     ...  \n",
       "82743         http://www.sedaily.com/NewsView/29THBXYGJF     NaN  \n",
       "82744         http://www.sedaily.com/NewsView/29THCKN45F     NaN  \n",
       "82745         http://www.sedaily.com/NewsView/29TH914V50     NaN  \n",
       "82746         http://www.sedaily.com/NewsView/29TGTPBCOY     NaN  \n",
       "82747         http://www.sedaily.com/NewsView/29TGFLGO0L     NaN  \n",
       "\n",
       "[82748 rows x 20 columns]"
      ]
     },
     "execution_count": 58,
     "metadata": {},
     "output_type": "execute_result"
    }
   ],
   "source": [
    "df = pd.read_csv('../data/totalNews.csv')\n",
    "df"
   ]
  },
  {
   "cell_type": "code",
   "execution_count": 59,
   "id": "8f692829-3ae5-4f46-bdac-b9a4cd6298cb",
   "metadata": {},
   "outputs": [],
   "source": [
    "df.dropna(subset = ['본문'], inplace = True)"
   ]
  },
  {
   "cell_type": "markdown",
   "id": "1139e334-e30b-42e9-ba09-813f5d6ec5fa",
   "metadata": {},
   "source": [
    "# 뉴스신뢰도 분석 요인 "
   ]
  },
  {
   "cell_type": "markdown",
   "id": "456c09ba-35f9-4b29-8b83-bfbbcfbd5ebe",
   "metadata": {},
   "source": [
    "## (1) 기자명, email "
   ]
  },
  {
   "cell_type": "code",
   "execution_count": 60,
   "id": "1e26f014-c62d-49d3-9572-6391314b5208",
   "metadata": {},
   "outputs": [
    {
     "data": {
      "text/plain": [
       "0        교육적 회복 사라진 학폭위…궁극적 목적은 화해생기부 기재 부작용 커…가벼운 사안은 ...\n",
       "1        팀 이대성, 122-117로 팀 허웅 제압…전성현 3점슛 9개 분전허웅, 생애 첫 ...\n",
       "2        “다당제 위해서라면 중대선거구제라도 도입해야”“독일식 연동형 비례대표제 가장 바람직...\n",
       "3        “제2의 진박감별사가 당 쥐락펴락” 나경원 비판에 응수 ▲ 국민의힘 장제원 의원, ...\n",
       "4        ▲ 마티즈와 K3가 정면 충돌한 사고 현장에서 소방대원과 경찰이 사고를 수습하고 있...\n",
       "                               ...                        \n",
       "82743    지난 16일 인천시청에 폭발물을 설치했다는 신고가 접수돼 경찰특공대와 탐지견이 폭발...\n",
       "82744    윤희근 경찰청장이 18일 충북 충주시 중앙경찰학교에서 열린 신임경찰 제312기 졸업...\n",
       "82745    부산 해운대 앞에서 현수막을 들고 있는 여성들. 사진 제공=독자서울 강남·홍대·잠실...\n",
       "82746    무더운 날씨를 기록한 지난 14일 서울 경복궁을 찾은 관광객들이 양산으로 햇볕을 피...\n",
       "82747    사진=유튜브채널 ‘한문철 TV’ 캡처전동 킥보드를 타고 교차로를 무단횡단한 10대들...\n",
       "Name: 본문, Length: 77539, dtype: object"
      ]
     },
     "execution_count": 60,
     "metadata": {},
     "output_type": "execute_result"
    }
   ],
   "source": [
    "Name = df[~df.기고자.isna()]['본문']\n",
    "Name"
   ]
  },
  {
   "cell_type": "markdown",
   "id": "b9c73ffa-4613-410d-8c31-59aedf2968b4",
   "metadata": {},
   "source": [
    "- 실명 기자 명, 이메일이 있을 경우 1점\n",
    "- 실명 기자 명만 있을 경우에는 0.8점,"
   ]
  },
  {
   "cell_type": "code",
   "execution_count": 255,
   "id": "e9aa036f-6a9f-4b05-8ca9-338947c7cf8a",
   "metadata": {},
   "outputs": [],
   "source": [
    "Name_email = [idx for idx, val in zip(Name.index, Name.values) if '@' in str(val)]\n",
    "Name_noemail = [idx for idx, val in zip(Name.index, Name.values) if '@' not in str(val)]"
   ]
  },
  {
   "cell_type": "code",
   "execution_count": 256,
   "id": "6c143f6c-4f29-409e-8f78-90d56b8b83b6",
   "metadata": {},
   "outputs": [],
   "source": [
    "Name_email_df = pd.DataFrame([Name_email,[1,] * len(Name_email)]).T\n",
    "Name_noemail_df = pd.DataFrame([Name_noemail,[0.8,] * len(Name_noemail)]).T\n",
    "Name_noemail_df[0] = Name_noemail_df[0].astype(int)\n",
    "Name_ = pd.concat([Name_noemail_df, Name_email_df]).sort_values(0)"
   ]
  },
  {
   "cell_type": "code",
   "execution_count": 257,
   "id": "d36cedd5-301f-497b-939a-0b2f6278d673",
   "metadata": {},
   "outputs": [
    {
     "data": {
      "text/html": [
       "<div>\n",
       "<style scoped>\n",
       "    .dataframe tbody tr th:only-of-type {\n",
       "        vertical-align: middle;\n",
       "    }\n",
       "\n",
       "    .dataframe tbody tr th {\n",
       "        vertical-align: top;\n",
       "    }\n",
       "\n",
       "    .dataframe thead th {\n",
       "        text-align: right;\n",
       "    }\n",
       "</style>\n",
       "<table border=\"1\" class=\"dataframe\">\n",
       "  <thead>\n",
       "    <tr style=\"text-align: right;\">\n",
       "      <th></th>\n",
       "      <th>0</th>\n",
       "      <th>1</th>\n",
       "    </tr>\n",
       "  </thead>\n",
       "  <tbody>\n",
       "    <tr>\n",
       "      <th>0</th>\n",
       "      <td>0</td>\n",
       "      <td>0.8</td>\n",
       "    </tr>\n",
       "    <tr>\n",
       "      <th>1</th>\n",
       "      <td>1</td>\n",
       "      <td>0.8</td>\n",
       "    </tr>\n",
       "    <tr>\n",
       "      <th>0</th>\n",
       "      <td>2</td>\n",
       "      <td>1.0</td>\n",
       "    </tr>\n",
       "    <tr>\n",
       "      <th>2</th>\n",
       "      <td>3</td>\n",
       "      <td>0.8</td>\n",
       "    </tr>\n",
       "    <tr>\n",
       "      <th>3</th>\n",
       "      <td>4</td>\n",
       "      <td>0.8</td>\n",
       "    </tr>\n",
       "    <tr>\n",
       "      <th>...</th>\n",
       "      <td>...</td>\n",
       "      <td>...</td>\n",
       "    </tr>\n",
       "    <tr>\n",
       "      <th>44480</th>\n",
       "      <td>82743</td>\n",
       "      <td>0.8</td>\n",
       "    </tr>\n",
       "    <tr>\n",
       "      <th>44481</th>\n",
       "      <td>82744</td>\n",
       "      <td>0.8</td>\n",
       "    </tr>\n",
       "    <tr>\n",
       "      <th>44482</th>\n",
       "      <td>82745</td>\n",
       "      <td>0.8</td>\n",
       "    </tr>\n",
       "    <tr>\n",
       "      <th>44483</th>\n",
       "      <td>82746</td>\n",
       "      <td>0.8</td>\n",
       "    </tr>\n",
       "    <tr>\n",
       "      <th>44484</th>\n",
       "      <td>82747</td>\n",
       "      <td>0.8</td>\n",
       "    </tr>\n",
       "  </tbody>\n",
       "</table>\n",
       "<p>77539 rows × 2 columns</p>\n",
       "</div>"
      ],
      "text/plain": [
       "           0    1\n",
       "0          0  0.8\n",
       "1          1  0.8\n",
       "0          2  1.0\n",
       "2          3  0.8\n",
       "3          4  0.8\n",
       "...      ...  ...\n",
       "44480  82743  0.8\n",
       "44481  82744  0.8\n",
       "44482  82745  0.8\n",
       "44483  82746  0.8\n",
       "44484  82747  0.8\n",
       "\n",
       "[77539 rows x 2 columns]"
      ]
     },
     "execution_count": 257,
     "metadata": {},
     "output_type": "execute_result"
    }
   ],
   "source": [
    "Name_ "
   ]
  },
  {
   "cell_type": "markdown",
   "id": "0f44d924-dcf7-4904-b4c5-5b72b836ca36",
   "metadata": {},
   "source": [
    "- 비실명 기자 명일 경우에는 0점  =>  판단불가능하므로 제외\n",
    "- 기자 명 없이 이메일만 있을 경우에는 0점  \n",
    "- 기자 명 및 이메일이 아예 없을 경우에는 -1점"
   ]
  },
  {
   "cell_type": "code",
   "execution_count": 238,
   "id": "97476538-5765-4c6e-b1ee-5b8c7eb376dd",
   "metadata": {},
   "outputs": [
    {
     "data": {
      "text/plain": [
       "24       평산마을 사저의 책장 앞에 선 문재인 전 대통령. 한길사 제공47년째 출판 외길을 ...\n",
       "59       월요일인 16일 전국이 대체로 흐리다가 오후부터 차차 맑아지겠다.  강원 영서는 새...\n",
       "74       일요일인 15일은 전국이 흐리고 비 또는 눈이 내린다.  강원도에는 눈이 내리고, ...\n",
       "91       일요일 기준 12주 만에 최소 신규확진…위중증 499명·사망 37명코로나19 신규 ...\n",
       "123      강원영동·경북북동산지에 많은 눈최저기온 -2~7도…낮 최고 0~9도기온 내려가 중부...\n",
       "                               ...                        \n",
       "80765    특허청 <전보> ◇과장급 ▲산업재산데이터관리과장 김곤희 ▲인공지능빅데이터심사과장 전...\n",
       "80792    정수근 대구환경운동연합 사무처장대구 달성군은 구지면 낙동강에서 수상레포츠 시설인 '...\n",
       "80838    정연승 단국대 교수, 서비스마케팅학회장2012년 '골목상권'이라 불리는 중소유통보호...\n",
       "80860    ▲법제사법위 = 헌법재판소(사무처), 헌법재판연구원(10:00, 국회) 군사법원(1...\n",
       "80862    ▲법제사법위 = 감사원(10:00, 국회)▲정무위 = 국가보훈부, 한국보훈복지의료공...\n",
       "Name: 본문, Length: 2507, dtype: object"
      ]
     },
     "execution_count": 238,
     "metadata": {},
     "output_type": "execute_result"
    }
   ],
   "source": [
    "noName=df[df.기고자.isna()]['본문']\n",
    "noName"
   ]
  },
  {
   "cell_type": "code",
   "execution_count": 265,
   "id": "da12ece2-7687-46df-b26b-99a231bb78d3",
   "metadata": {},
   "outputs": [],
   "source": [
    "noName_email = [idx for idx, val in zip(noName.index, noName.values) if '@' in val]\n",
    "noName_noemail = [idx for idx, val in zip(noName.index, noName.values) if '@' not in val]"
   ]
  },
  {
   "cell_type": "code",
   "execution_count": 266,
   "id": "f8c91e63-dae7-4e6a-b92b-59bc25563c45",
   "metadata": {},
   "outputs": [],
   "source": [
    "noName_email_df = pd.DataFrame([noName_email,[0,] * len(noName_email)]).T\n",
    "noName_noemail_df = pd.DataFrame([noName_noemail,[-1,] * len(noName_noemail)]).T\n",
    "noName_noemail_df[0] = noName_noemail_df[0].astype(int)\n",
    "noName_ = pd.concat([noName_noemail_df, noName_email_df]).sort_values(0)"
   ]
  },
  {
   "cell_type": "code",
   "execution_count": 267,
   "id": "30f48d37-29ec-4c0e-a7d0-01aed3ebe318",
   "metadata": {},
   "outputs": [
    {
     "data": {
      "text/html": [
       "<div>\n",
       "<style scoped>\n",
       "    .dataframe tbody tr th:only-of-type {\n",
       "        vertical-align: middle;\n",
       "    }\n",
       "\n",
       "    .dataframe tbody tr th {\n",
       "        vertical-align: top;\n",
       "    }\n",
       "\n",
       "    .dataframe thead th {\n",
       "        text-align: right;\n",
       "    }\n",
       "</style>\n",
       "<table border=\"1\" class=\"dataframe\">\n",
       "  <thead>\n",
       "    <tr style=\"text-align: right;\">\n",
       "      <th></th>\n",
       "      <th>0</th>\n",
       "      <th>1</th>\n",
       "    </tr>\n",
       "  </thead>\n",
       "  <tbody>\n",
       "    <tr>\n",
       "      <th>0</th>\n",
       "      <td>24</td>\n",
       "      <td>-1</td>\n",
       "    </tr>\n",
       "    <tr>\n",
       "      <th>1</th>\n",
       "      <td>59</td>\n",
       "      <td>-1</td>\n",
       "    </tr>\n",
       "    <tr>\n",
       "      <th>2</th>\n",
       "      <td>74</td>\n",
       "      <td>-1</td>\n",
       "    </tr>\n",
       "    <tr>\n",
       "      <th>3</th>\n",
       "      <td>91</td>\n",
       "      <td>-1</td>\n",
       "    </tr>\n",
       "    <tr>\n",
       "      <th>4</th>\n",
       "      <td>123</td>\n",
       "      <td>-1</td>\n",
       "    </tr>\n",
       "    <tr>\n",
       "      <th>...</th>\n",
       "      <td>...</td>\n",
       "      <td>...</td>\n",
       "    </tr>\n",
       "    <tr>\n",
       "      <th>2382</th>\n",
       "      <td>80765</td>\n",
       "      <td>-1</td>\n",
       "    </tr>\n",
       "    <tr>\n",
       "      <th>2383</th>\n",
       "      <td>80792</td>\n",
       "      <td>-1</td>\n",
       "    </tr>\n",
       "    <tr>\n",
       "      <th>2384</th>\n",
       "      <td>80838</td>\n",
       "      <td>-1</td>\n",
       "    </tr>\n",
       "    <tr>\n",
       "      <th>2385</th>\n",
       "      <td>80860</td>\n",
       "      <td>-1</td>\n",
       "    </tr>\n",
       "    <tr>\n",
       "      <th>2386</th>\n",
       "      <td>80862</td>\n",
       "      <td>-1</td>\n",
       "    </tr>\n",
       "  </tbody>\n",
       "</table>\n",
       "<p>2507 rows × 2 columns</p>\n",
       "</div>"
      ],
      "text/plain": [
       "          0  1\n",
       "0        24 -1\n",
       "1        59 -1\n",
       "2        74 -1\n",
       "3        91 -1\n",
       "4       123 -1\n",
       "...     ... ..\n",
       "2382  80765 -1\n",
       "2383  80792 -1\n",
       "2384  80838 -1\n",
       "2385  80860 -1\n",
       "2386  80862 -1\n",
       "\n",
       "[2507 rows x 2 columns]"
      ]
     },
     "execution_count": 267,
     "metadata": {},
     "output_type": "execute_result"
    }
   ],
   "source": [
    "noName_"
   ]
  },
  {
   "cell_type": "code",
   "execution_count": 276,
   "id": "6c9d6d9f-135b-46ec-b4a7-b8e7cea28739",
   "metadata": {},
   "outputs": [
    {
     "data": {
      "text/html": [
       "<div>\n",
       "<style scoped>\n",
       "    .dataframe tbody tr th:only-of-type {\n",
       "        vertical-align: middle;\n",
       "    }\n",
       "\n",
       "    .dataframe tbody tr th {\n",
       "        vertical-align: top;\n",
       "    }\n",
       "\n",
       "    .dataframe thead th {\n",
       "        text-align: right;\n",
       "    }\n",
       "</style>\n",
       "<table border=\"1\" class=\"dataframe\">\n",
       "  <thead>\n",
       "    <tr style=\"text-align: right;\">\n",
       "      <th></th>\n",
       "      <th>1</th>\n",
       "    </tr>\n",
       "    <tr>\n",
       "      <th>0</th>\n",
       "      <th></th>\n",
       "    </tr>\n",
       "  </thead>\n",
       "  <tbody>\n",
       "    <tr>\n",
       "      <th>0</th>\n",
       "      <td>0.8</td>\n",
       "    </tr>\n",
       "    <tr>\n",
       "      <th>1</th>\n",
       "      <td>0.8</td>\n",
       "    </tr>\n",
       "    <tr>\n",
       "      <th>2</th>\n",
       "      <td>1.0</td>\n",
       "    </tr>\n",
       "    <tr>\n",
       "      <th>3</th>\n",
       "      <td>0.8</td>\n",
       "    </tr>\n",
       "    <tr>\n",
       "      <th>4</th>\n",
       "      <td>0.8</td>\n",
       "    </tr>\n",
       "    <tr>\n",
       "      <th>...</th>\n",
       "      <td>...</td>\n",
       "    </tr>\n",
       "    <tr>\n",
       "      <th>82743</th>\n",
       "      <td>0.8</td>\n",
       "    </tr>\n",
       "    <tr>\n",
       "      <th>82744</th>\n",
       "      <td>0.8</td>\n",
       "    </tr>\n",
       "    <tr>\n",
       "      <th>82745</th>\n",
       "      <td>0.8</td>\n",
       "    </tr>\n",
       "    <tr>\n",
       "      <th>82746</th>\n",
       "      <td>0.8</td>\n",
       "    </tr>\n",
       "    <tr>\n",
       "      <th>82747</th>\n",
       "      <td>0.8</td>\n",
       "    </tr>\n",
       "  </tbody>\n",
       "</table>\n",
       "<p>80046 rows × 1 columns</p>\n",
       "</div>"
      ],
      "text/plain": [
       "         1\n",
       "0         \n",
       "0      0.8\n",
       "1      0.8\n",
       "2      1.0\n",
       "3      0.8\n",
       "4      0.8\n",
       "...    ...\n",
       "82743  0.8\n",
       "82744  0.8\n",
       "82745  0.8\n",
       "82746  0.8\n",
       "82747  0.8\n",
       "\n",
       "[80046 rows x 1 columns]"
      ]
     },
     "execution_count": 276,
     "metadata": {},
     "output_type": "execute_result"
    }
   ],
   "source": [
    "df_kija = pd.concat([noName_,Name_])\n",
    "df_kija.sort_values(0, inplace=True)\n",
    "df_kija.set_index(0, inplace=True)\n",
    "df_kija"
   ]
  },
  {
   "cell_type": "markdown",
   "id": "bfe30c2e-131f-4c33-8142-fdbf7382f049",
   "metadata": {},
   "source": [
    "## (2) 기사길이"
   ]
  },
  {
   "cell_type": "markdown",
   "id": "baf18fc4-edd8-46c9-8373-d129004d7784",
   "metadata": {},
   "source": [
    "- 기사의 길이는 \n",
    "0, 0.165, 0.33, 0.495, 0.66, 0.835, 1 등 7단계의 값"
   ]
  },
  {
   "cell_type": "code",
   "execution_count": 270,
   "id": "92bec3d9-8b61-4dc3-8f18-23cb691631de",
   "metadata": {},
   "outputs": [],
   "source": [
    "mean_ = df[df['본문'].apply(lambda x: isinstance(x, str))]['본문'].apply(lambda x: len(x)).mean()\n",
    "sd_ = df[df['본문'].apply(lambda x: isinstance(x, str))]['본문'].apply(lambda x: len(x)).std()"
   ]
  },
  {
   "cell_type": "code",
   "execution_count": 271,
   "id": "b83ba89f-6320-490b-9006-8317a09c2660",
   "metadata": {},
   "outputs": [],
   "source": [
    "def lenScore(x):\n",
    "    if x < mean_:\n",
    "        score = 0\n",
    "    elif x < mean_ + 0.5*sd_:\n",
    "        score = 0.165\n",
    "    elif x < mean_ + sd_:\n",
    "        score = 0.33\n",
    "    elif x < mean_ + 1.5*sd_:\n",
    "        score = 0.495\n",
    "    elif x < mean_ + 2*sd_:\n",
    "        score = 0.66\n",
    "    elif x < mean_ + 2.5*sd_:\n",
    "        score = 0.835\n",
    "    else:\n",
    "        score = 1\n",
    "\n",
    "    return score"
   ]
  },
  {
   "cell_type": "code",
   "execution_count": 275,
   "id": "c13a2f5a-c8eb-4b4e-99c0-632ae3742476",
   "metadata": {},
   "outputs": [
    {
     "data": {
      "text/plain": [
       "0        1.000\n",
       "1        0.165\n",
       "2        0.495\n",
       "3        0.165\n",
       "4        0.000\n",
       "         ...  \n",
       "82743    0.165\n",
       "82744    0.165\n",
       "82745    0.165\n",
       "82746    0.000\n",
       "82747    0.000\n",
       "Name: 본문, Length: 80046, dtype: float64"
      ]
     },
     "execution_count": 275,
     "metadata": {},
     "output_type": "execute_result"
    }
   ],
   "source": [
    "df_body=df.본문.apply(lambda x: lenScore(len(x)))\n",
    "df_body"
   ]
  },
  {
   "cell_type": "markdown",
   "id": "d4844ec6-8aad-47c8-8dac-0604de9262ce",
   "metadata": {},
   "source": [
    "## (3) 인용문의 수"
   ]
  },
  {
   "cell_type": "markdown",
   "id": "c26c100b-d7d6-4dc0-b5db-2213afd781ae",
   "metadata": {},
   "source": [
    "-  인용문이 0개일 경우는 0점, \n",
    "1개일 경우는 1/15며, 15개 이상일 경  1점"
   ]
  },
  {
   "cell_type": "code",
   "execution_count": 67,
   "id": "7868b671-712d-4e70-942c-52956aec7b56",
   "metadata": {},
   "outputs": [
    {
     "data": {
      "text/plain": [
       "6"
      ]
     },
     "execution_count": 67,
     "metadata": {},
     "output_type": "execute_result"
    }
   ],
   "source": [
    "df['본문'][0].count('“')"
   ]
  },
  {
   "cell_type": "code",
   "execution_count": 277,
   "id": "108e42fe-e9e6-48f8-aaa1-0db0aa802d23",
   "metadata": {},
   "outputs": [
    {
     "data": {
      "text/plain": [
       "0        3.0\n",
       "1        1.0\n",
       "2        5.5\n",
       "3        6.0\n",
       "4        0.0\n",
       "        ... \n",
       "82743    0.0\n",
       "82744    3.0\n",
       "82745    4.5\n",
       "82746    0.5\n",
       "82747    2.0\n",
       "Name: 본문, Length: 80046, dtype: float64"
      ]
     },
     "execution_count": 277,
     "metadata": {},
     "output_type": "execute_result"
    }
   ],
   "source": [
    "df_inyong = df['본문'].apply(lambda x: x.count('“')/2 if x.count('“')/2 < 15 else 1 if x.count('“')/2 >= 15 else 0) \n",
    "df_inyong"
   ]
  },
  {
   "cell_type": "markdown",
   "id": "45c60323-0a1c-466b-a35e-5763eca928aa",
   "metadata": {},
   "source": [
    "## (4) 제목의 길이"
   ]
  },
  {
   "cell_type": "markdown",
   "id": "fdcfba49-15d0-4e30-b856-10195d9666a0",
   "metadata": {},
   "source": [
    "제목의 길이가 45자를 넘으면 감점"
   ]
  },
  {
   "cell_type": "code",
   "execution_count": 278,
   "id": "f5d64872-70cc-4b8a-bf44-9f4c36dbaea2",
   "metadata": {},
   "outputs": [],
   "source": [
    "df['제목'].apply(lambda x: -1 if len(x) > 45 else 0)\n",
    "df_head = df['제목'].apply(lambda x: -1 if len(x) > 45 else 0)"
   ]
  },
  {
   "cell_type": "markdown",
   "id": "ed1d947e-36e9-4eb6-9ca2-97141a7d1545",
   "metadata": {},
   "source": [
    "## (5) 제목 물음표 느낌표 수"
   ]
  },
  {
   "cell_type": "code",
   "execution_count": 279,
   "id": "4a4585a8-122c-4309-88b9-499284895264",
   "metadata": {},
   "outputs": [
    {
     "data": {
      "text/plain": [
       "0        False\n",
       "1        False\n",
       "2        False\n",
       "3        False\n",
       "4        False\n",
       "         ...  \n",
       "82743    False\n",
       "82744    False\n",
       "82745    False\n",
       "82746    False\n",
       "82747    False\n",
       "Name: 제목, Length: 80046, dtype: bool"
      ]
     },
     "execution_count": 279,
     "metadata": {},
     "output_type": "execute_result"
    }
   ],
   "source": [
    "df_headspecial=df['제목'].apply(lambda x: -0.5 if  x.count('!') + x.count('?') == 1 else -1 if x.count('!') + x.count('?') >= 2 else 0 ) == -1\n",
    "df_headspecial"
   ]
  },
  {
   "cell_type": "markdown",
   "id": "0f806415-30e2-4def-b0de-6d4d45c4fc30",
   "metadata": {},
   "source": [
    "## (6) 수치 인용 수"
   ]
  },
  {
   "cell_type": "markdown",
   "id": "0b06936c-0cd4-4589-9208-15e3c877f3ad",
   "metadata": {},
   "source": [
    "- 평균 이하는 0점, 0~0.5SD=0.33, 0.5SD~1SD=0.66, 1SD 이상 = 1"
   ]
  },
  {
   "cell_type": "code",
   "execution_count": 280,
   "id": "1b5a746c-c4ac-4e49-98d2-5617cc8fe695",
   "metadata": {},
   "outputs": [],
   "source": [
    "numDF = df.본문.str.extract('(\\d+)')\n",
    "numDF.fillna(0,inplace=True)\n",
    "numDF = numDF.astype('int64')"
   ]
  },
  {
   "cell_type": "code",
   "execution_count": 282,
   "id": "8a7134f1-38c1-49ba-9d05-c258ff226365",
   "metadata": {},
   "outputs": [
    {
     "data": {
      "text/plain": [
       "0        0\n",
       "1        0\n",
       "2        0\n",
       "3        0\n",
       "4        0\n",
       "        ..\n",
       "82743    0\n",
       "82744    0\n",
       "82745    0\n",
       "82746    0\n",
       "82747    0\n",
       "Name: 0, Length: 80046, dtype: int64"
      ]
     },
     "execution_count": 282,
     "metadata": {},
     "output_type": "execute_result"
    }
   ],
   "source": [
    "numMean_=numDF[0].mean() \n",
    "numStd_ =numDF[0].std()\n",
    "df_num = numDF[0].apply(lambda x: 0 if x <numMean_ else 0.33 if x <numMean_+0.5*numStd_ else 0.66 if x <numMean_+numStd_ else 1)\n",
    "df_num"
   ]
  },
  {
   "cell_type": "markdown",
   "id": "9ceb1238-b78f-4825-b9b2-c2716167e1a8",
   "metadata": {},
   "source": [
    "## (7) 기사 내 이미지의 수\n",
    "- 기사 본문 내 이미지 개수가 0개는 0점, 1개 0.33, 2개 \n",
    "0.66, 3개 1점, 4개 0.66점, 5개 0.33점 6개 이상 0점을 부여<br>\n",
    " 이미지 데이터는 활용하지 않은 프로젝트이므로 이 요인은 배제한다."
   ]
  },
  {
   "cell_type": "markdown",
   "id": "a3ff3da2-d4de-4868-9348-baceebe35b83",
   "metadata": {},
   "source": [
    "## (8) 평균 문장의 길이\r"
   ]
  },
  {
   "cell_type": "markdown",
   "id": "9282dc1e-f484-479b-bf96-c3473339896c",
   "metadata": {},
   "source": [
    "평균 문장의 길이보다 1 표준편차\r\n",
    "이상 길 경우에는 감점 1점을 부여하고 그 외에는 모두 0점"
   ]
  },
  {
   "cell_type": "code",
   "execution_count": 283,
   "id": "50eeb2f1-53a9-4072-8df3-14b141b231b0",
   "metadata": {},
   "outputs": [],
   "source": [
    "sentenceMean=df.본문.apply(lambda x: len(x.split('.'))).mean()\n",
    "sentenceStd=df.본문.apply(lambda x: len(x.split('.'))).std()"
   ]
  },
  {
   "cell_type": "code",
   "execution_count": 284,
   "id": "6ead9f0f-477c-4661-b788-9c1afce20f99",
   "metadata": {},
   "outputs": [
    {
     "data": {
      "text/plain": [
       "0       -1\n",
       "1        0\n",
       "2       -1\n",
       "3        0\n",
       "4        0\n",
       "        ..\n",
       "82743    0\n",
       "82744    0\n",
       "82745    0\n",
       "82746    0\n",
       "82747    0\n",
       "Name: 본문, Length: 80046, dtype: int64"
      ]
     },
     "execution_count": 284,
     "metadata": {},
     "output_type": "execute_result"
    }
   ],
   "source": [
    "df_sentence=df.본문.apply(lambda x: -1 if len(x.split('.')) > sentenceMean + sentenceStd else 0)\n",
    "df_sentence"
   ]
  },
  {
   "cell_type": "markdown",
   "id": "d1c12772-e671-41d6-9b00-658c66917b27",
   "metadata": {},
   "source": [
    "## (9) 제목의 부사 수"
   ]
  },
  {
   "cell_type": "markdown",
   "id": "b3acf683-fe98-4546-8eab-210463445a9c",
   "metadata": {},
   "source": [
    "- 제목에 사용된 부사 수가 0개에서 1개까지는  감점하지 \n",
    "않고, 2개를 사용했을 경우에는 0.5점  감점, 3개 이상 사용했을 경우에는 1점을\r\n",
    "감점"
   ]
  },
  {
   "cell_type": "code",
   "execution_count": 286,
   "id": "f292558a-1d3a-426c-b975-75d17b3bc09a",
   "metadata": {},
   "outputs": [],
   "source": [
    "from konlpy.tag import Okt\n",
    "okt = Okt()"
   ]
  },
  {
   "cell_type": "code",
   "execution_count": 287,
   "id": "643a8138-3b07-43ad-845c-76cabdc86a15",
   "metadata": {},
   "outputs": [],
   "source": [
    "def title_adverbs(text):\n",
    "\n",
    "    pos_tag = okt.pos(text)\n",
    "    adv__ = [word for word, pos in pos_tag if pos == 'Adjective' and len(word) != 1]\n",
    "    if len(adv__) <= 1:\n",
    "        score = 0\n",
    "    elif len(adv__) == 2:\n",
    "        score = -0.5\n",
    "    else: \n",
    "        score = -1\n",
    "    \n",
    "    return score"
   ]
  },
  {
   "cell_type": "code",
   "execution_count": 288,
   "id": "486c0bd2-e359-43e1-a469-5a3a47591312",
   "metadata": {},
   "outputs": [
    {
     "data": {
      "text/plain": [
       "0        0.0\n",
       "1        0.0\n",
       "2        0.0\n",
       "3        0.0\n",
       "4        0.0\n",
       "        ... \n",
       "82743    0.0\n",
       "82744    0.0\n",
       "82745    0.0\n",
       "82746    0.0\n",
       "82747    0.0\n",
       "Name: 제목, Length: 80046, dtype: float64"
      ]
     },
     "execution_count": 288,
     "metadata": {},
     "output_type": "execute_result"
    }
   ],
   "source": [
    "df_headAdj=df.제목.apply(title_adverbs)\n",
    "df_headAdj"
   ]
  },
  {
   "cell_type": "markdown",
   "id": "01fa56a5-a35c-4bd7-a40b-748a61ee5f65",
   "metadata": {},
   "source": [
    "## (10) 문장당 평균 부사 수\n",
    "- 사용된 부사의 수를  추출하고 이를 기사 본문의 문장 수로 나눠 1개 문장당 평균 부사의 수를 산출\n",
    "- 지나치게 많은 것에만 감점을 부여하기로 결정하고 평균 문장당 부사 수보다 2 표준편차보다 많은 경우에만 1점 감점"
   ]
  },
  {
   "cell_type": "code",
   "execution_count": 137,
   "id": "bb910d62-1729-400d-8a88-cc6a9e7043b5",
   "metadata": {},
   "outputs": [],
   "source": [
    "def body_adverbs(text):\n",
    "    adject_ = [word for word, pos in okt.pos(text) if pos == 'Adjective' and len(word) != 1]\n",
    "    criteria_ = len(adject_)/len(text.split('.'))\n",
    "\n",
    "    return criteria_"
   ]
  },
  {
   "cell_type": "code",
   "execution_count": 138,
   "id": "375de097-f3f5-420b-beca-9bac8825a87c",
   "metadata": {},
   "outputs": [],
   "source": [
    "body_adverbs=df.제목.apply(body_adverbs)\n",
    "body_adverbs_std = body_adverbs.std()\n",
    "body_adverbs_mean_ = body_adverbs.mean()\n",
    "body_adverbs_score=body_adverbs.apply(lambda x: -1 if x > body_adverbs_mean_+2*body_adverbs_std else 0)\n",
    "body_adverbs_score"
   ]
  },
  {
   "cell_type": "markdown",
   "id": "16bc75c8-fc8f-4fdb-9375-c44d116108f7",
   "metadata": {},
   "source": [
    "## (11) 기사 본문 중 인용문의 비중 \n",
    "- 전체 기사에서 인용문의 비중이 0.5~0.8까지는 -0.5, 0.8이상은  –1점 "
   ]
  },
  {
   "cell_type": "code",
   "execution_count": 171,
   "id": "b195e998-5f3f-4265-be31-6f23dc69f0c0",
   "metadata": {
    "scrolled": true
   },
   "outputs": [
    {
     "data": {
      "text/plain": [
       "0.7252013808975835"
      ]
     },
     "execution_count": 171,
     "metadata": {},
     "output_type": "execute_result"
    }
   ],
   "source": [
    "text = df['본문'][0]\n",
    "substring1 = '“'\n",
    "substring2 = '”'\n",
    "indices1 = [i for i in range(len(text)) if text.startswith(substring1, i)]\n",
    "indices2 = [i for i in range(len(text)) if text.startswith(substring2, i)]\n",
    "np.sum(np.array(indices2) - np.array(indices1))   # 인용문 길이 합\n",
    "np.sum(np.array(indices2) - np.array(indices1))/len(text)  # 인용문 비중"
   ]
  },
  {
   "cell_type": "code",
   "execution_count": 185,
   "id": "989b9581-6f49-473d-b5e0-090a33952bae",
   "metadata": {},
   "outputs": [],
   "source": [
    "def inyong(text):\n",
    "    substring1 = '“'\n",
    "    substring2 = '”'\n",
    "    indices1 = [i for i in range(len(text)) if text.startswith(substring1, i)]\n",
    "    indices2 = [i for i in range(len(text)) if text.startswith(substring2, i)]\n",
    "    \n",
    "    if len(indices1) != len(indices2):\n",
    "        min_ = min(len(indices1), len(indices2))\n",
    "        indices1 = indices1[:min_]\n",
    "        indices2 = indices2[:min_]\n",
    "    \n",
    "    percent_ = np.sum(np.array(indices2) - np.array(indices1))/len(text)      # 인용문 비중\n",
    "    \n",
    "    if percent_ >= 0.8:\n",
    "        score = -1\n",
    "    elif percent_ >= 0.5:\n",
    "        score = -0.5\n",
    "    else:\n",
    "        score = 0\n",
    "    return score"
   ]
  },
  {
   "cell_type": "code",
   "execution_count": 289,
   "id": "eb2cec97-bcd3-4c50-a21f-fb437f51fb07",
   "metadata": {
    "scrolled": true
   },
   "outputs": [
    {
     "data": {
      "text/plain": [
       "0       -0.5\n",
       "1        0.0\n",
       "2       -0.5\n",
       "3        0.0\n",
       "4        0.0\n",
       "        ... \n",
       "82743    0.0\n",
       "82744    0.0\n",
       "82745    0.0\n",
       "82746    0.0\n",
       "82747    0.0\n",
       "Name: 본문, Length: 80046, dtype: float64"
      ]
     },
     "execution_count": 289,
     "metadata": {},
     "output_type": "execute_result"
    }
   ],
   "source": [
    "df_inyongPercent=df.본문.apply(inyong)\n",
    "df_inyongPercent"
   ]
  },
  {
   "cell_type": "markdown",
   "id": "0b06c113-45a3-49a7-892e-fe1be6c29c87",
   "metadata": {},
   "source": [
    "## 가치 점수"
   ]
  },
  {
   "cell_type": "markdown",
   "id": "77b165a7-a6d4-4f29-87ab-315e39f6d6e5",
   "metadata": {},
   "source": [
    "- 독이성 : 기자 명 + 기사 길이  + 인용문 수 + 제목 길이  + 제목 물음표･느낌표 + 수치 인용 수 + 이미지 수 + 평균 문장 길이  + 제목 부사 수 + 문장 평균 부사\n",
    "- 투명성 : 기자 명 + 기사 길이  + 인용문 수 + 제목 물음표･느낌표+수치 인용 수 + 이미지 수 + 인용문 비중\n",
    "- 사실성 : 기자 명  + 기사 길이 + 인용문 수  + 제목 물음표･느낌표 + 수치 인용 수 + 이미지 수  + 제목 부사 수  + 문장 평균 부사 수  + 인용문 비중\n",
    "- 유용성 : 기자 명 + 기사 길이 + 인용문 수 + 수치 인용 수  + 이미지 수\n",
    "- 균형성 : 기자 명 + 기사 길이  + 인용문 수 + 제목 물음표･느낌표 + 제목 부사 수 + 문장 평균 부사 수 + 인용문 비중\n",
    "- 다양성 : 기자 명 + 기사  길이  + 인용문 수 + 제목  길이  + 수치 인용수 + 이미지 수  + 평균 문장 길이  + 인용문 비중 \n",
    "- 독창성 : 기자 명 + 기사 길이 + 인용문 수 + 제목 물음표･느낌표 + 수치 인용수 + 이미지 수\n",
    "- 중요성 : 기자 명 + 기사 길이 + 인용문 수 + 수치 인용 수  + 이미지 수\n",
    "- 심층성 : 기자 명 + 기사 길이 + 인용문 수  + 수치 인용 수 + 이미지 수 + 인용문 비중\n",
    "- 선정상 : 기자 명 + 제목  길이 + 제목 물음표･느낌표 + 제목 부사 수 + 문장 평균 부사 수 + 인용문 비중\n",
    "- 총합"
   ]
  },
  {
   "cell_type": "markdown",
   "id": "85e57083-dfec-412e-ae2f-1e46a8d7e24b",
   "metadata": {},
   "source": [
    "```python\n",
    "df_kija[1].values #기자명\n",
    "df_body # 기사길이\n",
    "df_inyong  # 인용문 수\n",
    "df_head    # 제목길이\n",
    "df_headspecial  # 제목 물음표느낌표\n",
    "df_num   # 수치 인용수\n",
    "df_sentence  # 평균문장길이\n",
    "df_headAdj   # 제목 부사 수\n",
    "body_adverbs_score   # 문장 평균 부사 \n",
    "```"
   ]
  },
  {
   "cell_type": "markdown",
   "id": "ba23f020-be55-44ea-92e3-283177a42c64",
   "metadata": {},
   "source": [
    "### 저널리즘 가치 점수"
   ]
  },
  {
   "cell_type": "code",
   "execution_count": 304,
   "id": "9032ab2a-2041-46a9-88f2-c0825df12274",
   "metadata": {},
   "outputs": [],
   "source": [
    "feature1 = df_kija[1].values + df_inyong + df_head + df_headspecial + df_num + df_sentence + df_headAdj + body_adverbs_score +df_body\n",
    "feature2 = df_kija[1].values + df_inyong + df_body + df_headspecial + df_num + df_inyongPercent\n",
    "feature3 = df_kija[1].values + df_inyong + df_body + df_headspecial + df_num + df_headAdj + body_adverbs_score + df_inyongPercent\n",
    "feature4 = df_kija[1].values + df_inyong + df_body + df_num\n",
    "feature5 = df_kija[1].values + df_inyong + df_body + df_headspecial + df_headAdj + body_adverbs_score + df_inyongPercent\n",
    "feature6 = df_kija[1].values + df_inyong + df_body + df_head + df_num + df_sentence + df_inyongPercent\n",
    "feature7 = df_kija[1].values + df_inyong + df_body + df_headspecial + df_num \n",
    "feature8 = df_kija[1].values + df_inyong + df_body + df_num\n",
    "feature9 = df_kija[1].values + df_inyong + df_body + df_num + df_inyongPercent\n",
    "feature10 = df_kija[1].values + df_head + df_headspecial + df_headAdj + body_adverbs_score + df_inyongPercent\n"
   ]
  },
  {
   "cell_type": "code",
   "execution_count": 312,
   "id": "775c800f-d945-49c1-a145-6a32aec29578",
   "metadata": {},
   "outputs": [
    {
     "data": {
      "text/plain": [
       "0        39.000\n",
       "1        18.485\n",
       "2        55.955\n",
       "3        63.485\n",
       "4         8.000\n",
       "          ...  \n",
       "82743     9.485\n",
       "82744    36.485\n",
       "82745    49.985\n",
       "82746    12.500\n",
       "82747    26.000\n",
       "Length: 80046, dtype: float64"
      ]
     },
     "execution_count": 312,
     "metadata": {},
     "output_type": "execute_result"
    }
   ],
   "source": [
    "feature_sum = 0\n",
    "for i in range(1,11):\n",
    "    feature_sum += eval(f'feature{i}')\n",
    "feature_sum"
   ]
  },
  {
   "cell_type": "code",
   "execution_count": null,
   "id": "d194bbc0-ac1c-45c8-bfeb-1ae608987b23",
   "metadata": {},
   "outputs": [],
   "source": [
    "feature_sum.to_csv('가치점수.csv', index)"
   ]
  },
  {
   "cell_type": "markdown",
   "id": "1518b94f-cd25-421d-8892-c85ae4a15262",
   "metadata": {},
   "source": [
    "### 저널리즘 가중치 점수(가중치는 논문 참고)"
   ]
  },
  {
   "cell_type": "code",
   "execution_count": 313,
   "id": "f7e0be87-351d-41b4-9ca8-964961327bd7",
   "metadata": {},
   "outputs": [],
   "source": [
    "new_feature1 = df_kija[1].values*0.001 + df_inyong*0.001 +df_body*0.003 + df_head*1 + df_headspecial*1.002 + df_num*1.354 + body_adverbs_score*0.5 + df_sentence*1.5 + df_headAdj*2.446\n",
    "new_feature2 = df_kija[1].values*4.498 + df_inyong*4.5 + df_body*3.003 + df_headspecial*3.619 + df_num*1.454 + df_inyongPercent*0.001\n",
    "new_feature3 = df_kija[1].values*4.493 + df_inyong*3.501 + df_body*3.503 + df_headspecial*0.001 + df_num*0.502 + df_headAdj*0.5 + body_adverbs_score*1.5 + df_inyongPercent*1\n",
    "new_feature4 = df_kija[1].values*3.494 + df_inyong*2.001 + df_body*3.498 + df_num*1.956\n",
    "new_feature5 = df_kija[1].values*2.996 + df_inyong*3 + df_body*3.002 + df_headspecial*1.501 + df_headAdj*0.501 + body_adverbs_score*1 + df_inyongPercent*1\n",
    "new_feature6 = df_kija[1].values*0.998 + df_inyong*2.501 + df_body*4.994 + df_head*0.5 + df_num*1.953 + df_sentence*0.5 + df_inyongPercent*0.5\n",
    "new_feature7 = df_kija[1].values*4.494 + df_inyong*3.501 + df_body*4.492 + df_headspecial*3.09 + df_num*1.823 \n",
    "new_feature8 = df_kija[1].values*2.495 + df_inyong*3.5 + df_body*3.503 + df_num*1.002\n",
    "new_feature9 = df_kija[1].values*4.496 + df_inyong*3.501 + df_body*4.995 + df_num*1.336 + df_inyongPercent*1\n",
    "new_feature10 = df_kija[1].values*4.491 + df_head*3.5 + df_headspecial*3.501 + df_headAdj*3.5 + body_adverbs_score*3.5 + df_inyongPercent*3.5"
   ]
  },
  {
   "cell_type": "code",
   "execution_count": 314,
   "id": "15325acd-55de-4a62-a3fe-f9551a8f636b",
   "metadata": {},
   "outputs": [
    {
     "data": {
      "text/plain": [
       "0        129.475300\n",
       "1         57.084645\n",
       "2        180.330035\n",
       "3        187.114645\n",
       "4         25.964800\n",
       "            ...    \n",
       "82743     31.078645\n",
       "82744    109.096645\n",
       "82745    148.105645\n",
       "82746     38.967800\n",
       "82747     77.976800\n",
       "Length: 80046, dtype: float64"
      ]
     },
     "execution_count": 314,
     "metadata": {},
     "output_type": "execute_result"
    }
   ],
   "source": [
    "new_feature_sum = 0\n",
    "for i in range(1,11):\n",
    "    new_feature_sum += eval(f'new_feature{i}')\n",
    "new_feature_sum"
   ]
  },
  {
   "cell_type": "code",
   "execution_count": 315,
   "id": "76ac2289-85f6-4290-91fd-7ee49dcd0e79",
   "metadata": {},
   "outputs": [],
   "source": [
    "feature_sum.to_csv('가치점수.csv', index)"
   ]
  },
  {
   "cell_type": "code",
   "execution_count": null,
   "id": "ee38b8a5-2c48-4f80-905a-0ebf1ea30f8b",
   "metadata": {},
   "outputs": [],
   "source": []
  }
 ],
 "metadata": {
  "kernelspec": {
   "display_name": "Python 3 (ipykernel)",
   "language": "python",
   "name": "python3"
  },
  "language_info": {
   "codemirror_mode": {
    "name": "ipython",
    "version": 3
   },
   "file_extension": ".py",
   "mimetype": "text/x-python",
   "name": "python",
   "nbconvert_exporter": "python",
   "pygments_lexer": "ipython3",
   "version": "3.8.18"
  }
 },
 "nbformat": 4,
 "nbformat_minor": 5
}
